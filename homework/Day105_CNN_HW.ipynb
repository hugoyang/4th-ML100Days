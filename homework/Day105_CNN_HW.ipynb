{
  "nbformat": 4,
  "nbformat_minor": 0,
  "metadata": {
    "kernelspec": {
      "display_name": "Python 3",
      "language": "python",
      "name": "python3"
    },
    "language_info": {
      "codemirror_mode": {
        "name": "ipython",
        "version": 3
      },
      "file_extension": ".py",
      "mimetype": "text/x-python",
      "name": "python",
      "nbconvert_exporter": "python",
      "pygments_lexer": "ipython3",
      "version": "3.7.0"
    },
    "colab": {
      "name": "Day105-CNN_HW.ipynb",
      "provenance": [],
      "toc_visible": true
    },
    "accelerator": "GPU"
  },
  "cells": [
    {
      "cell_type": "markdown",
      "metadata": {
        "id": "EXIJVZySnk8W",
        "colab_type": "text"
      },
      "source": [
        "# 教學目標:\n",
        "    \n",
        "回顧 CNN 網路"
      ]
    },
    {
      "cell_type": "markdown",
      "metadata": {
        "id": "t6SKtoplnk8Z",
        "colab_type": "text"
      },
      "source": [
        "# 範例說明:\n",
        "    \n",
        "使用 keras 預載的模型\n",
        "\n",
        "使用 keras VGG16 預訓練的權重\n",
        "\n",
        "了解預測後的結果輸出"
      ]
    },
    {
      "cell_type": "markdown",
      "metadata": {
        "id": "4H591Abpnk8b",
        "colab_type": "text"
      },
      "source": [
        "# 作業:\n",
        "\n",
        "    回答 Q&A"
      ]
    },
    {
      "cell_type": "code",
      "metadata": {
        "id": "33l4uoPonk8c",
        "colab_type": "code",
        "colab": {
          "base_uri": "https://localhost:8080/",
          "height": 1000
        },
        "outputId": "e5e886e8-f1c5-4d20-9bf1-fa21e4a86146"
      },
      "source": [
        "from keras.applications.vgg16 import VGG16\n",
        "from keras.preprocessing import image\n",
        "from keras.applications.vgg16 import preprocess_input\n",
        "import numpy as np\n",
        "\n",
        "#載入預訓練模型\n",
        "model = VGG16(weights='imagenet', include_top=False)\n",
        "\n",
        " # VGG 現存模型要找到一張名為elephant.jpg做處理的預設路徑\n",
        "img_path = '/content/elephant.jpg'\n",
        "#載入影像\n",
        "img = image.load_img(img_path, target_size=(224, 224))\n",
        "x = image.img_to_array(img)\n",
        "x = np.expand_dims(x, axis=0)\n",
        "x = preprocess_input(x)\n",
        "\n",
        "#執行預測\n",
        "features = model.predict(x)\n",
        "print(features)\n",
        "# decode_predictions 輸出5個最高概率：(類別, 語義概念, 預測概率"
      ],
      "execution_count": 1,
      "outputs": [
        {
          "output_type": "stream",
          "text": [
            "Downloading data from https://storage.googleapis.com/tensorflow/keras-applications/vgg16/vgg16_weights_tf_dim_ordering_tf_kernels_notop.h5\n",
            "58892288/58889256 [==============================] - 0s 0us/step\n",
            "[[[[ 0.          0.          0.         ...  0.          0.\n",
            "     0.        ]\n",
            "   [ 0.          0.          0.22740573 ...  0.          0.\n",
            "     0.        ]\n",
            "   [ 0.          0.          0.         ...  0.          0.\n",
            "     0.        ]\n",
            "   ...\n",
            "   [ 0.          0.          0.         ...  0.          0.\n",
            "     0.        ]\n",
            "   [ 0.          0.          0.         ...  0.          0.\n",
            "     0.        ]\n",
            "   [ 0.          0.          0.         ...  0.          0.\n",
            "     0.        ]]\n",
            "\n",
            "  [[ 0.          0.          0.         ...  0.          0.\n",
            "     0.        ]\n",
            "   [14.766546    0.         16.267622   ...  0.          0.\n",
            "     0.        ]\n",
            "   [13.843515    0.          4.0256405  ...  0.          2.1663363\n",
            "     0.        ]\n",
            "   ...\n",
            "   [ 0.          0.          8.849555   ...  0.          0.\n",
            "     0.        ]\n",
            "   [ 5.3327656   0.          9.823445   ...  0.          0.\n",
            "     0.        ]\n",
            "   [ 0.          0.          0.         ...  0.          0.\n",
            "     0.        ]]\n",
            "\n",
            "  [[ 0.          0.          0.         ...  0.          0.\n",
            "     0.        ]\n",
            "   [54.81648     0.         32.631416   ... 33.63435     0.\n",
            "     6.152957  ]\n",
            "   [29.073633    0.         16.777208   ... 19.346344    0.\n",
            "    41.10374   ]\n",
            "   ...\n",
            "   [ 0.          0.          0.         ...  9.588504    0.\n",
            "     0.        ]\n",
            "   [ 0.          0.          0.         ...  0.          0.\n",
            "     0.        ]\n",
            "   [ 0.          0.          0.         ...  0.          0.\n",
            "     0.        ]]\n",
            "\n",
            "  ...\n",
            "\n",
            "  [[ 0.          0.          0.         ...  0.          0.\n",
            "     0.        ]\n",
            "   [ 0.          0.          0.         ...  0.          0.\n",
            "     3.8219292 ]\n",
            "   [ 0.          0.          0.         ...  0.          0.\n",
            "    20.493217  ]\n",
            "   ...\n",
            "   [ 0.          0.         28.123701   ...  0.          0.\n",
            "     0.        ]\n",
            "   [ 0.          0.          6.412669   ...  0.          0.\n",
            "     0.        ]\n",
            "   [ 0.          0.          0.         ...  0.          0.\n",
            "    10.195451  ]]\n",
            "\n",
            "  [[ 0.          0.          0.         ...  0.          0.\n",
            "     0.        ]\n",
            "   [ 0.          0.          0.         ...  7.171621    0.\n",
            "     0.        ]\n",
            "   [ 0.          0.          0.         ...  0.          0.\n",
            "     0.        ]\n",
            "   ...\n",
            "   [ 0.          0.          2.4547744  ...  0.          0.\n",
            "     0.        ]\n",
            "   [ 0.          0.          0.         ...  0.          0.\n",
            "     0.        ]\n",
            "   [ 0.          0.          0.         ...  0.          0.\n",
            "     0.        ]]\n",
            "\n",
            "  [[ 0.          0.          0.         ...  0.          0.\n",
            "     0.        ]\n",
            "   [ 0.          0.          0.         ...  0.          0.\n",
            "     0.        ]\n",
            "   [ 0.          0.          0.         ...  0.          0.\n",
            "     0.        ]\n",
            "   ...\n",
            "   [ 0.          0.          0.         ...  0.          0.\n",
            "     0.        ]\n",
            "   [ 0.          0.          0.         ...  0.          0.\n",
            "     0.        ]\n",
            "   [ 0.          0.          0.         ...  0.          0.\n",
            "     0.        ]]]]\n"
          ],
          "name": "stdout"
        }
      ]
    },
    {
      "cell_type": "markdown",
      "metadata": {
        "id": "gKmnNa9onk8i",
        "colab_type": "text"
      },
      "source": [
        "# 問題:\n",
        "\n",
        "為什麼在CNNs中激活函數選用ReLU，而不用sigmoid或tanh函數？"
      ]
    },
    {
      "cell_type": "markdown",
      "metadata": {
        "id": "G0VyJiOioHf9",
        "colab_type": "text"
      },
      "source": [
        "1. ReLU是非線性函數, 可以處理非線性的的問題\n",
        "2. ReLU是簡單的函數, 計算量較小"
      ]
    },
    {
      "cell_type": "code",
      "metadata": {
        "id": "gbNRixUHnk8i",
        "colab_type": "code",
        "colab": {}
      },
      "source": [
        ""
      ],
      "execution_count": null,
      "outputs": []
    }
  ]
}