{
 "cells": [
  {
   "cell_type": "markdown",
   "metadata": {},
   "source": [
    "## [作業重點]\n",
    "使用 Sklearn 中的 Lasso, Ridge 模型，來訓練各種資料集，務必了解送進去模型訓練的**資料型態**為何，也請了解模型中各項參數的意義。\n",
    "\n",
    "機器學習的模型非常多種，但要訓練的資料多半有固定的格式，確保你了解訓練資料的格式為何，這樣在應用新模型時，就能夠最快的上手開始訓練！"
   ]
  },
  {
   "cell_type": "markdown",
   "metadata": {},
   "source": [
    "## 練習時間\n",
    "試著使用 sklearn datasets 的其他資料集 (boston, ...)，來訓練自己的線性迴歸模型，並加上適當的正則化來觀察訓練情形。"
   ]
  },
  {
   "cell_type": "code",
   "execution_count": 11,
   "metadata": {},
   "outputs": [],
   "source": [
    "import numpy as np\n",
    "import matplotlib.pyplot as plt\n",
    "from sklearn import datasets, linear_model\n",
    "from sklearn.model_selection import train_test_split\n",
    "from sklearn.metrics import mean_squared_error, r2_score"
   ]
  },
  {
   "cell_type": "code",
   "execution_count": 12,
   "metadata": {},
   "outputs": [
    {
     "name": "stdout",
     "output_type": "stream",
     "text": [
      "[-0.06494981  0.04581458 -0.          0.         -0.          1.18140024\n",
      "  0.01109101 -0.73695809  0.23350042 -0.01551065 -0.69270805  0.00763157\n",
      " -0.6927848 ]\n",
      "Mean squared error: 28.95\n"
     ]
    }
   ],
   "source": [
    "# 讀取boston資料集\n",
    "boston = datasets.load_boston()\n",
    "\n",
    "# 切分訓練集/測試集\n",
    "x_train, x_test, y_train, y_test = train_test_split(boston.data, boston.target, test_size=0.2, random_state=4)\n",
    "\n",
    "# 建立一個 LASSO回歸模型 alpha = 1.0\n",
    "lasso = linear_model.Lasso(alpha=1.0)\n",
    "\n",
    "# 將訓練資料丟進去模型訓練\n",
    "lasso.fit(x_train, y_train)\n",
    "\n",
    "# 將測試資料丟進模型得到預測結果\n",
    "y_pred = lasso.predict(x_test)\n",
    "\n",
    "# 印出各特徵對應的係數\n",
    "print(lasso.coef_)\n",
    "\n",
    "# 預測值與實際值的差距，使用 MSE\n",
    "print(\"Mean squared error: %.2f\"\n",
    "      % mean_squared_error(y_test, y_pred))"
   ]
  },
  {
   "cell_type": "code",
   "execution_count": 13,
   "metadata": {},
   "outputs": [
    {
     "name": "stdout",
     "output_type": "stream",
     "text": [
      "[-0.10618872  0.04886351 -0.04536655  1.14953069 -0.          3.82353877\n",
      " -0.02089779 -1.23590613  0.26008876 -0.01517094 -0.74673362  0.00963864\n",
      " -0.49877104]\n",
      "Mean squared error: 26.45\n"
     ]
    }
   ],
   "source": [
    "# 建立一個 LASSO回歸模型 alpha = 0.1\n",
    "lasso = linear_model.Lasso(alpha=0.1)\n",
    "\n",
    "# 將訓練資料丟進去模型訓練\n",
    "lasso.fit(x_train, y_train)\n",
    "\n",
    "# 將測試資料丟進模型得到預測結果\n",
    "y_pred = lasso.predict(x_test)\n",
    "\n",
    "# 印出各特徵對應的係數\n",
    "print(lasso.coef_)\n",
    "\n",
    "# 預測值與實際值的差距，使用 MSE\n",
    "print(\"Mean squared error: %.2f\"\n",
    "      % mean_squared_error(y_test, y_pred))"
   ]
  },
  {
   "cell_type": "code",
   "execution_count": 14,
   "metadata": {},
   "outputs": [
    {
     "name": "stdout",
     "output_type": "stream",
     "text": [
      "[-1.12499445e-01  4.79562332e-02 -2.40438147e-02  2.96199458e+00\n",
      " -9.33966118e+00  3.93079015e+00 -1.73821202e-02 -1.43347691e+00\n",
      "  2.75239392e-01 -1.38920708e-02 -8.31116943e-01  9.15637729e-03\n",
      " -4.66460539e-01]\n",
      "Mean squared error: 25.74\n"
     ]
    }
   ],
   "source": [
    "# 建立一個 Ridge回歸模型 alpha = 1.0\n",
    "ridge = linear_model.Ridge(alpha=1.0)\n",
    "\n",
    "# 將訓練資料丟進去模型訓練\n",
    "ridge.fit(x_train, y_train)\n",
    "\n",
    "# 將測試資料丟進模型得到預測結果\n",
    "y_pred = ridge.predict(x_test)\n",
    "\n",
    "# 印出各特徵對應的係數\n",
    "print(ridge.coef_)\n",
    "\n",
    "# 預測值與實際值的差距，使用 MSE\n",
    "print(\"Mean squared error: %.2f\"\n",
    "      % mean_squared_error(y_test, y_pred))"
   ]
  },
  {
   "cell_type": "code",
   "execution_count": 15,
   "metadata": {},
   "outputs": [
    {
     "name": "stdout",
     "output_type": "stream",
     "text": [
      "[-1.15381303e-01  4.72528249e-02  2.87371589e-03  3.19642306e+00\n",
      " -1.54713824e+01  3.89388927e+00 -1.19943742e-02 -1.52347878e+00\n",
      "  2.90133016e-01 -1.34816989e-02 -8.93679905e-01  8.86599187e-03\n",
      " -4.58983115e-01]\n",
      "Mean squared error: 25.46\n"
     ]
    }
   ],
   "source": [
    "# 建立一個 Ridge回歸模型 alpha = 0.1\n",
    "ridge = linear_model.Ridge(alpha=0.1)\n",
    "\n",
    "# 將訓練資料丟進去模型訓練\n",
    "ridge.fit(x_train, y_train)\n",
    "\n",
    "# 將測試資料丟進模型得到預測結果\n",
    "y_pred = ridge.predict(x_test)\n",
    "\n",
    "# 印出各特徵對應的係數\n",
    "print(ridge.coef_)\n",
    "\n",
    "# 預測值與實際值的差距，使用 MSE\n",
    "print(\"Mean squared error: %.2f\"\n",
    "      % mean_squared_error(y_test, y_pred))"
   ]
  },
  {
   "cell_type": "code",
   "execution_count": 16,
   "metadata": {},
   "outputs": [
    {
     "name": "stdout",
     "output_type": "stream",
     "text": [
      "[[-1.21702413 -0.18301572  0.07085454]\n",
      " [-0.16500267 -0.04240416  0.02848377]\n",
      " [ 0.10302969  0.05543243 -0.03005608]]\n",
      "Mean squared error: 382.88\n"
     ]
    }
   ],
   "source": [
    "# 讀取linnerud資料集\n",
    "linnerud = datasets.load_linnerud()\n",
    "\n",
    "# 切分訓練集/測試集\n",
    "x_train, x_test, y_train, y_test = train_test_split(linnerud.data, linnerud.target, test_size=0.2, random_state=4)\n",
    "\n",
    "# 建立一個線性回歸模型 alpha = 1.0\n",
    "lasso = linear_model.Lasso(alpha=1.0)\n",
    "\n",
    "# 將訓練資料丟進去模型訓練\n",
    "lasso.fit(x_train, y_train)\n",
    "\n",
    "# 將測試資料丟進模型得到預測結果\n",
    "y_pred = lasso.predict(x_test)\n",
    "\n",
    "# 印出各特徵對應的係數\n",
    "print(lasso.coef_)\n",
    "\n",
    "# 預測值與實際值的差距，使用 MSE\n",
    "print(\"Mean squared error: %.2f\"\n",
    "      % mean_squared_error(y_test, y_pred))"
   ]
  },
  {
   "cell_type": "code",
   "execution_count": 17,
   "metadata": {},
   "outputs": [
    {
     "name": "stdout",
     "output_type": "stream",
     "text": [
      "[[-1.28050477 -0.18035845  0.0723055 ]\n",
      " [-0.22848573 -0.03974737  0.02993522]\n",
      " [ 0.16650656  0.05277535 -0.031507  ]]\n",
      "Mean squared error: 385.82\n"
     ]
    }
   ],
   "source": [
    "# 建立一個線性回歸模型 alpha = 0.1\n",
    "lasso = linear_model.Lasso(alpha=0.1)\n",
    "\n",
    "# 將訓練資料丟進去模型訓練\n",
    "lasso.fit(x_train, y_train)\n",
    "\n",
    "# 將測試資料丟進模型得到預測結果\n",
    "y_pred = lasso.predict(x_test)\n",
    "\n",
    "# 印出各特徵對應的係數\n",
    "print(lasso.coef_)\n",
    "\n",
    "# 預測值與實際值的差距，使用 MSE\n",
    "print(\"Mean squared error: %.2f\"\n",
    "      % mean_squared_error(y_test, y_pred))"
   ]
  },
  {
   "cell_type": "code",
   "execution_count": 18,
   "metadata": {},
   "outputs": [
    {
     "name": "stdout",
     "output_type": "stream",
     "text": [
      "[[-1.28169016 -0.18036401  0.072403  ]\n",
      " [-0.23446277 -0.03950683  0.03008403]\n",
      " [ 0.17278069  0.05251903 -0.03165848]]\n",
      "Mean squared error: 385.93\n"
     ]
    }
   ],
   "source": [
    "# 建立一個 Ridge回歸模型 alpha = 1.0\n",
    "ridge = linear_model.Ridge(alpha=1.0)\n",
    "\n",
    "# 將訓練資料丟進去模型訓練\n",
    "ridge.fit(x_train, y_train)\n",
    "\n",
    "# 將測試資料丟進模型得到預測結果\n",
    "y_pred = ridge.predict(x_test)\n",
    "\n",
    "# 印出各特徵對應的係數\n",
    "print(ridge.coef_)\n",
    "\n",
    "# 預測值與實際值的差距，使用 MSE\n",
    "print(\"Mean squared error: %.2f\"\n",
    "      % mean_squared_error(y_test, y_pred))"
   ]
  },
  {
   "cell_type": "code",
   "execution_count": 19,
   "metadata": {},
   "outputs": [
    {
     "name": "stdout",
     "output_type": "stream",
     "text": [
      "[[-1.28697432 -0.18008663  0.07245527]\n",
      " [-0.23542857 -0.03945666  0.03009432]\n",
      " [ 0.17348754  0.05248312 -0.03166684]]\n",
      "Mean squared error: 386.13\n"
     ]
    }
   ],
   "source": [
    "# 建立一個 Ridge回歸模型 alpha = 0.1\n",
    "ridge = linear_model.Ridge(alpha=0.1)\n",
    "\n",
    "# 將訓練資料丟進去模型訓練\n",
    "ridge.fit(x_train, y_train)\n",
    "\n",
    "# 將測試資料丟進模型得到預測結果\n",
    "y_pred = ridge.predict(x_test)\n",
    "\n",
    "# 印出各特徵對應的係數\n",
    "print(ridge.coef_)\n",
    "\n",
    "# 預測值與實際值的差距，使用 MSE\n",
    "print(\"Mean squared error: %.2f\"\n",
    "      % mean_squared_error(y_test, y_pred))"
   ]
  },
  {
   "cell_type": "code",
   "execution_count": null,
   "metadata": {},
   "outputs": [],
   "source": []
  }
 ],
 "metadata": {
  "kernelspec": {
   "display_name": "Python 3",
   "language": "python",
   "name": "python3"
  },
  "language_info": {
   "codemirror_mode": {
    "name": "ipython",
    "version": 3
   },
   "file_extension": ".py",
   "mimetype": "text/x-python",
   "name": "python",
   "nbconvert_exporter": "python",
   "pygments_lexer": "ipython3",
   "version": "3.7.4"
  }
 },
 "nbformat": 4,
 "nbformat_minor": 2
}
