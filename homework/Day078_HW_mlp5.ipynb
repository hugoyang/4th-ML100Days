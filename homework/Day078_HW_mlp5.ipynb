{
 "cells": [
  {
   "cell_type": "markdown",
   "metadata": {},
   "source": [
    "## Work\n",
    "1. 請嘗試將 preproc_x 替換成以每筆資料的 min/max 進行標準化至 -1 ~ 1 間，再進行訓練\n",
    "2. 請嘗試將 mlp 疊更深 (e.g 5~10 層)，進行訓練後觀察 learning curve 的走勢\n",
    "3. (optional) 請改用 GPU 進行訓練 (如果你有 GPU 的話)，比較使用 CPU 與 GPU 的訓練速度"
   ]
  },
  {
   "cell_type": "code",
   "execution_count": 22,
   "metadata": {},
   "outputs": [
    {
     "name": "stdout",
     "output_type": "stream",
     "text": [
      "/bin/sh: nvidia-smi: command not found\r\n"
     ]
    }
   ],
   "source": [
    "## \n",
    "\"\"\"\n",
    "Your code here (optional)\n",
    "確認硬體資源\n",
    "\"\"\"\n",
    "!nvidia-smi"
   ]
  },
  {
   "cell_type": "code",
   "execution_count": 23,
   "metadata": {},
   "outputs": [],
   "source": [
    "import os\n",
    "import keras\n",
    "\n",
    "# 請嘗試設定 GPU：os.environ\n",
    "os.environ[\"CUDA_VISIBLE_DEVICES\"] = \"\""
   ]
  },
  {
   "cell_type": "code",
   "execution_count": 24,
   "metadata": {},
   "outputs": [],
   "source": [
    "train, test = keras.datasets.cifar10.load_data()"
   ]
  },
  {
   "cell_type": "code",
   "execution_count": 25,
   "metadata": {},
   "outputs": [],
   "source": [
    "## 資料前處理\n",
    "\"\"\"\n",
    "Your code here\n",
    "\"\"\"\n",
    "import numpy as np\n",
    "\n",
    "def preproc_x(x, flatten=True):\n",
    "    max_val = np.max(x)\n",
    "    min_val = np.min(x)\n",
    "    x = ((x - min_val) / (max_val - min_val) - 0.5)*2\n",
    "    \n",
    "    if flatten:\n",
    "        x = x.reshape((len(x), -1))\n",
    "    return x\n",
    "\n",
    "def preproc_y(y, num_classes=10):\n",
    "    if y.shape[-1] == 1:\n",
    "        y = keras.utils.to_categorical(y, num_classes)\n",
    "    return y"
   ]
  },
  {
   "cell_type": "code",
   "execution_count": 26,
   "metadata": {},
   "outputs": [],
   "source": [
    "x_train, y_train = train\n",
    "x_test, y_test = test\n",
    "\n",
    "\n",
    "# Preproc the inputs\n",
    "x_train = preproc_x(x_train)\n",
    "x_test = preproc_x(x_test)\n",
    "\n",
    "# Preprc the outputs\n",
    "y_train = preproc_y(y_train)\n",
    "y_test = preproc_y(y_test)\n"
   ]
  },
  {
   "cell_type": "code",
   "execution_count": 27,
   "metadata": {},
   "outputs": [
    {
     "name": "stdout",
     "output_type": "stream",
     "text": [
      "Model: \"model_3\"\n",
      "_________________________________________________________________\n",
      "Layer (type)                 Output Shape              Param #   \n",
      "=================================================================\n",
      "input_3 (InputLayer)         (None, 3072)              0         \n",
      "_________________________________________________________________\n",
      "hidden_layer1 (Dense)        (None, 1024)              3146752   \n",
      "_________________________________________________________________\n",
      "hidden_layer2 (Dense)        (None, 512)               524800    \n",
      "_________________________________________________________________\n",
      "hidden_layer3 (Dense)        (None, 512)               262656    \n",
      "_________________________________________________________________\n",
      "hidden_layer4 (Dense)        (None, 256)               131328    \n",
      "_________________________________________________________________\n",
      "hidden_layer5 (Dense)        (None, 128)               32896     \n",
      "_________________________________________________________________\n",
      "output (Dense)               (None, 10)                1290      \n",
      "=================================================================\n",
      "Total params: 4,099,722\n",
      "Trainable params: 4,099,722\n",
      "Non-trainable params: 0\n",
      "_________________________________________________________________\n"
     ]
    }
   ],
   "source": [
    "\"\"\"Code Here\n",
    "建立你的神經網路\n",
    "\"\"\"\n",
    "def build_mlp(input_shape, output_units=10, num_neurons=[512, 256, 128]):\n",
    "    input_layer = keras.layers.Input(input_shape)\n",
    "    \n",
    "    for i, n_units in enumerate(num_neurons):\n",
    "        if i == 0:\n",
    "            x = keras.layers.Dense(units=n_units, activation=\"relu\", name=\"hidden_layer\"+str(i+1))(input_layer)\n",
    "        else:\n",
    "            x = keras.layers.Dense(units=n_units, activation=\"relu\", name=\"hidden_layer\"+str(i+1))(x)\n",
    "    \n",
    "    out = keras.layers.Dense(units=output_units, activation=\"softmax\", name=\"output\")(x)\n",
    "    \n",
    "    model = keras.models.Model(inputs=[input_layer], outputs=[out])\n",
    "    return model\n",
    "\n",
    "model_num_neurons = [1024, 512, 512, 256, 128]\n",
    "model = build_mlp(input_shape=x_train.shape[1:], num_neurons=model_num_neurons)\n",
    "model.summary()"
   ]
  },
  {
   "cell_type": "code",
   "execution_count": 28,
   "metadata": {},
   "outputs": [],
   "source": [
    "## 超參數設定\n",
    "LEARNING_RATE = 0.001\n",
    "EPOCHS = 100\n",
    "BATCH_SIZE = 256"
   ]
  },
  {
   "cell_type": "code",
   "execution_count": 29,
   "metadata": {},
   "outputs": [],
   "source": [
    "optimizer = keras.optimizers.Adam(lr=LEARNING_RATE)\n",
    "model.compile(loss=\"categorical_crossentropy\", metrics=[\"accuracy\"], optimizer=optimizer)"
   ]
  },
  {
   "cell_type": "code",
   "execution_count": 30,
   "metadata": {},
   "outputs": [
    {
     "name": "stdout",
     "output_type": "stream",
     "text": [
      "Train on 50000 samples, validate on 10000 samples\n",
      "Epoch 1/100\n",
      "50000/50000 [==============================] - 22s 444us/step - loss: 1.6894 - accuracy: 0.3968 - val_loss: 1.5764 - val_accuracy: 0.4501\n",
      "Epoch 2/100\n",
      "50000/50000 [==============================] - 21s 424us/step - loss: 1.4512 - accuracy: 0.4861 - val_loss: 1.4321 - val_accuracy: 0.4946\n",
      "Epoch 3/100\n",
      "50000/50000 [==============================] - 21s 429us/step - loss: 1.3329 - accuracy: 0.5298 - val_loss: 1.3998 - val_accuracy: 0.5163\n",
      "Epoch 4/100\n",
      "50000/50000 [==============================] - 21s 428us/step - loss: 1.2295 - accuracy: 0.5668 - val_loss: 1.3739 - val_accuracy: 0.5217\n",
      "Epoch 5/100\n",
      "50000/50000 [==============================] - 22s 431us/step - loss: 1.1362 - accuracy: 0.5960 - val_loss: 1.3576 - val_accuracy: 0.5281\n",
      "Epoch 6/100\n",
      "50000/50000 [==============================] - 22s 435us/step - loss: 1.0460 - accuracy: 0.6262 - val_loss: 1.3715 - val_accuracy: 0.5361\n",
      "Epoch 7/100\n",
      "50000/50000 [==============================] - 22s 437us/step - loss: 0.9625 - accuracy: 0.6582 - val_loss: 1.3810 - val_accuracy: 0.5437\n",
      "Epoch 8/100\n",
      "50000/50000 [==============================] - 22s 435us/step - loss: 0.8672 - accuracy: 0.6901 - val_loss: 1.4056 - val_accuracy: 0.5347\n",
      "Epoch 9/100\n",
      "50000/50000 [==============================] - 22s 438us/step - loss: 0.7904 - accuracy: 0.7180 - val_loss: 1.4778 - val_accuracy: 0.5418\n",
      "Epoch 10/100\n",
      "50000/50000 [==============================] - 23s 455us/step - loss: 0.7109 - accuracy: 0.7468 - val_loss: 1.5548 - val_accuracy: 0.5416\n",
      "Epoch 11/100\n",
      "50000/50000 [==============================] - 22s 434us/step - loss: 0.6361 - accuracy: 0.7716 - val_loss: 1.6244 - val_accuracy: 0.5356\n",
      "Epoch 12/100\n",
      "50000/50000 [==============================] - 22s 445us/step - loss: 0.5587 - accuracy: 0.8007 - val_loss: 1.7835 - val_accuracy: 0.5440\n",
      "Epoch 13/100\n",
      "50000/50000 [==============================] - 22s 436us/step - loss: 0.4942 - accuracy: 0.8231 - val_loss: 1.8840 - val_accuracy: 0.5339\n",
      "Epoch 14/100\n",
      "50000/50000 [==============================] - 22s 437us/step - loss: 0.4387 - accuracy: 0.8427 - val_loss: 1.9874 - val_accuracy: 0.5389\n",
      "Epoch 15/100\n",
      "50000/50000 [==============================] - 22s 446us/step - loss: 0.4120 - accuracy: 0.8543 - val_loss: 2.1203 - val_accuracy: 0.5358\n",
      "Epoch 16/100\n",
      "50000/50000 [==============================] - 22s 437us/step - loss: 0.3524 - accuracy: 0.8767 - val_loss: 2.2293 - val_accuracy: 0.5404\n",
      "Epoch 17/100\n",
      "50000/50000 [==============================] - 23s 451us/step - loss: 0.3269 - accuracy: 0.8855 - val_loss: 2.2166 - val_accuracy: 0.5383\n",
      "Epoch 18/100\n",
      "50000/50000 [==============================] - 22s 448us/step - loss: 0.2942 - accuracy: 0.8965 - val_loss: 2.5382 - val_accuracy: 0.5302\n",
      "Epoch 19/100\n",
      "50000/50000 [==============================] - 22s 448us/step - loss: 0.2623 - accuracy: 0.9086 - val_loss: 2.5838 - val_accuracy: 0.5337\n",
      "Epoch 20/100\n",
      "50000/50000 [==============================] - 23s 461us/step - loss: 0.2532 - accuracy: 0.9128 - val_loss: 2.6597 - val_accuracy: 0.5402\n",
      "Epoch 21/100\n",
      "50000/50000 [==============================] - 23s 458us/step - loss: 0.2312 - accuracy: 0.9209 - val_loss: 2.6811 - val_accuracy: 0.5353\n",
      "Epoch 22/100\n",
      "50000/50000 [==============================] - 23s 466us/step - loss: 0.2226 - accuracy: 0.9236 - val_loss: 2.6951 - val_accuracy: 0.5419\n",
      "Epoch 23/100\n",
      "50000/50000 [==============================] - 23s 466us/step - loss: 0.2040 - accuracy: 0.9304 - val_loss: 2.9056 - val_accuracy: 0.5371\n",
      "Epoch 24/100\n",
      "50000/50000 [==============================] - 23s 468us/step - loss: 0.2108 - accuracy: 0.9282 - val_loss: 2.8796 - val_accuracy: 0.5349\n",
      "Epoch 25/100\n",
      "50000/50000 [==============================] - 23s 470us/step - loss: 0.1807 - accuracy: 0.9382 - val_loss: 3.0700 - val_accuracy: 0.5325\n",
      "Epoch 26/100\n",
      "50000/50000 [==============================] - 23s 463us/step - loss: 0.1621 - accuracy: 0.9448 - val_loss: 3.1090 - val_accuracy: 0.5413\n",
      "Epoch 27/100\n",
      "50000/50000 [==============================] - 23s 468us/step - loss: 0.1697 - accuracy: 0.9420 - val_loss: 3.0013 - val_accuracy: 0.5405\n",
      "Epoch 28/100\n",
      "50000/50000 [==============================] - 24s 478us/step - loss: 0.1675 - accuracy: 0.9432 - val_loss: 3.1309 - val_accuracy: 0.5377\n",
      "Epoch 29/100\n",
      "50000/50000 [==============================] - 23s 466us/step - loss: 0.1604 - accuracy: 0.9464 - val_loss: 3.2207 - val_accuracy: 0.5385\n",
      "Epoch 30/100\n",
      "50000/50000 [==============================] - 23s 466us/step - loss: 0.1339 - accuracy: 0.9546 - val_loss: 3.2804 - val_accuracy: 0.5417\n",
      "Epoch 31/100\n",
      "50000/50000 [==============================] - 23s 469us/step - loss: 0.1428 - accuracy: 0.9524 - val_loss: 3.2345 - val_accuracy: 0.5400\n",
      "Epoch 32/100\n",
      "50000/50000 [==============================] - 23s 468us/step - loss: 0.1281 - accuracy: 0.9567 - val_loss: 3.4051 - val_accuracy: 0.5394\n",
      "Epoch 33/100\n",
      "50000/50000 [==============================] - 23s 469us/step - loss: 0.1367 - accuracy: 0.9547 - val_loss: 3.3233 - val_accuracy: 0.5381\n",
      "Epoch 34/100\n",
      "50000/50000 [==============================] - 24s 481us/step - loss: 0.1280 - accuracy: 0.9584 - val_loss: 3.3729 - val_accuracy: 0.5357\n",
      "Epoch 35/100\n",
      "50000/50000 [==============================] - 24s 470us/step - loss: 0.1232 - accuracy: 0.9603 - val_loss: 3.2611 - val_accuracy: 0.5339\n",
      "Epoch 36/100\n",
      "50000/50000 [==============================] - 22s 431us/step - loss: 0.1394 - accuracy: 0.9535 - val_loss: 3.1149 - val_accuracy: 0.5405\n",
      "Epoch 37/100\n",
      "50000/50000 [==============================] - 21s 430us/step - loss: 0.1137 - accuracy: 0.9628 - val_loss: 3.5308 - val_accuracy: 0.5441\n",
      "Epoch 38/100\n",
      "50000/50000 [==============================] - 22s 434us/step - loss: 0.1114 - accuracy: 0.9642 - val_loss: 3.5301 - val_accuracy: 0.5370\n",
      "Epoch 39/100\n",
      "50000/50000 [==============================] - 22s 432us/step - loss: 0.1149 - accuracy: 0.9625 - val_loss: 3.5956 - val_accuracy: 0.5391\n",
      "Epoch 40/100\n",
      "50000/50000 [==============================] - 22s 432us/step - loss: 0.1153 - accuracy: 0.9629 - val_loss: 3.5592 - val_accuracy: 0.5350\n",
      "Epoch 41/100\n",
      "50000/50000 [==============================] - 21s 429us/step - loss: 0.0957 - accuracy: 0.9679 - val_loss: 3.6350 - val_accuracy: 0.5308\n",
      "Epoch 42/100\n",
      "50000/50000 [==============================] - 22s 432us/step - loss: 0.1226 - accuracy: 0.9597 - val_loss: 3.3896 - val_accuracy: 0.5403\n",
      "Epoch 43/100\n",
      "50000/50000 [==============================] - 21s 429us/step - loss: 0.0996 - accuracy: 0.9683 - val_loss: 3.5743 - val_accuracy: 0.5397\n",
      "Epoch 44/100\n",
      "50000/50000 [==============================] - 22s 433us/step - loss: 0.1037 - accuracy: 0.9667 - val_loss: 3.5434 - val_accuracy: 0.5382\n",
      "Epoch 45/100\n",
      "50000/50000 [==============================] - 22s 442us/step - loss: 0.0944 - accuracy: 0.9694 - val_loss: 3.7627 - val_accuracy: 0.5307\n",
      "Epoch 46/100\n",
      "50000/50000 [==============================] - 22s 431us/step - loss: 0.1063 - accuracy: 0.9662 - val_loss: 3.5872 - val_accuracy: 0.5400\n",
      "Epoch 47/100\n",
      "50000/50000 [==============================] - 22s 430us/step - loss: 0.0870 - accuracy: 0.9724 - val_loss: 3.6730 - val_accuracy: 0.5393\n",
      "Epoch 48/100\n",
      "50000/50000 [==============================] - 22s 432us/step - loss: 0.1006 - accuracy: 0.9680 - val_loss: 3.6414 - val_accuracy: 0.5398\n",
      "Epoch 49/100\n",
      "50000/50000 [==============================] - 22s 431us/step - loss: 0.0892 - accuracy: 0.9719 - val_loss: 3.8385 - val_accuracy: 0.5418\n",
      "Epoch 50/100\n",
      "50000/50000 [==============================] - 22s 433us/step - loss: 0.0884 - accuracy: 0.9717 - val_loss: 3.6820 - val_accuracy: 0.5401\n",
      "Epoch 51/100\n",
      "50000/50000 [==============================] - 22s 433us/step - loss: 0.0932 - accuracy: 0.9711 - val_loss: 3.5865 - val_accuracy: 0.5398\n",
      "Epoch 52/100\n",
      "50000/50000 [==============================] - 22s 445us/step - loss: 0.0837 - accuracy: 0.9735 - val_loss: 3.6323 - val_accuracy: 0.5411\n",
      "Epoch 53/100\n",
      "50000/50000 [==============================] - 23s 459us/step - loss: 0.0886 - accuracy: 0.9711 - val_loss: 3.8624 - val_accuracy: 0.5403\n",
      "Epoch 54/100\n",
      "50000/50000 [==============================] - 22s 440us/step - loss: 0.0799 - accuracy: 0.9750 - val_loss: 3.8385 - val_accuracy: 0.5442\n",
      "Epoch 55/100\n",
      "50000/50000 [==============================] - 21s 418us/step - loss: 0.0882 - accuracy: 0.9723 - val_loss: 3.7655 - val_accuracy: 0.5335\n",
      "Epoch 56/100\n",
      "50000/50000 [==============================] - 21s 428us/step - loss: 0.0744 - accuracy: 0.9764 - val_loss: 3.8349 - val_accuracy: 0.5408\n",
      "Epoch 57/100\n",
      "50000/50000 [==============================] - 21s 413us/step - loss: 0.0762 - accuracy: 0.9759 - val_loss: 3.7400 - val_accuracy: 0.5364\n",
      "Epoch 58/100\n",
      "50000/50000 [==============================] - 21s 415us/step - loss: 0.0800 - accuracy: 0.9753 - val_loss: 3.9659 - val_accuracy: 0.5408\n",
      "Epoch 59/100\n",
      "50000/50000 [==============================] - 23s 469us/step - loss: 0.0696 - accuracy: 0.9781 - val_loss: 3.9396 - val_accuracy: 0.5321\n",
      "Epoch 60/100\n",
      "50000/50000 [==============================] - 22s 436us/step - loss: 0.0899 - accuracy: 0.9715 - val_loss: 3.7355 - val_accuracy: 0.5392\n",
      "Epoch 61/100\n",
      "50000/50000 [==============================] - 22s 446us/step - loss: 0.0739 - accuracy: 0.9769 - val_loss: 3.8110 - val_accuracy: 0.5314\n",
      "Epoch 62/100\n",
      "50000/50000 [==============================] - 22s 434us/step - loss: 0.0906 - accuracy: 0.9715 - val_loss: 3.6489 - val_accuracy: 0.5423\n",
      "Epoch 63/100\n",
      "50000/50000 [==============================] - 22s 442us/step - loss: 0.0685 - accuracy: 0.9783 - val_loss: 3.8386 - val_accuracy: 0.5449\n",
      "Epoch 64/100\n",
      "50000/50000 [==============================] - 22s 436us/step - loss: 0.0729 - accuracy: 0.9776 - val_loss: 3.7430 - val_accuracy: 0.5354\n",
      "Epoch 65/100\n",
      "50000/50000 [==============================] - 22s 433us/step - loss: 0.0857 - accuracy: 0.9736 - val_loss: 3.7858 - val_accuracy: 0.5352\n",
      "Epoch 66/100\n",
      "50000/50000 [==============================] - 22s 445us/step - loss: 0.0621 - accuracy: 0.9803 - val_loss: 3.8084 - val_accuracy: 0.5481\n",
      "Epoch 67/100\n",
      "50000/50000 [==============================] - 22s 433us/step - loss: 0.0619 - accuracy: 0.9811 - val_loss: 3.9301 - val_accuracy: 0.5428\n",
      "Epoch 68/100\n",
      "50000/50000 [==============================] - 22s 442us/step - loss: 0.0570 - accuracy: 0.9827 - val_loss: 3.8154 - val_accuracy: 0.5347\n",
      "Epoch 69/100\n",
      "50000/50000 [==============================] - 22s 433us/step - loss: 0.0808 - accuracy: 0.9757 - val_loss: 3.7211 - val_accuracy: 0.5428\n",
      "Epoch 70/100\n",
      "50000/50000 [==============================] - 22s 435us/step - loss: 0.0799 - accuracy: 0.9757 - val_loss: 3.6106 - val_accuracy: 0.5475\n",
      "Epoch 71/100\n",
      "50000/50000 [==============================] - 22s 433us/step - loss: 0.0636 - accuracy: 0.9807 - val_loss: 3.8403 - val_accuracy: 0.5457\n",
      "Epoch 72/100\n",
      "50000/50000 [==============================] - 22s 446us/step - loss: 0.0542 - accuracy: 0.9825 - val_loss: 4.0004 - val_accuracy: 0.5395\n",
      "Epoch 73/100\n",
      "50000/50000 [==============================] - 22s 433us/step - loss: 0.0756 - accuracy: 0.9770 - val_loss: 3.8191 - val_accuracy: 0.5379\n",
      "Epoch 74/100\n",
      "50000/50000 [==============================] - 22s 433us/step - loss: 0.0687 - accuracy: 0.9790 - val_loss: 3.7229 - val_accuracy: 0.5390\n",
      "Epoch 75/100\n",
      "50000/50000 [==============================] - 22s 432us/step - loss: 0.0675 - accuracy: 0.9797 - val_loss: 3.8072 - val_accuracy: 0.5412\n",
      "Epoch 76/100\n",
      "50000/50000 [==============================] - 22s 432us/step - loss: 0.0758 - accuracy: 0.9763 - val_loss: 3.9642 - val_accuracy: 0.5450\n",
      "Epoch 77/100\n",
      "50000/50000 [==============================] - 22s 435us/step - loss: 0.0535 - accuracy: 0.9837 - val_loss: 4.0883 - val_accuracy: 0.5450\n",
      "Epoch 78/100\n",
      "50000/50000 [==============================] - 22s 445us/step - loss: 0.0557 - accuracy: 0.9832 - val_loss: 3.8566 - val_accuracy: 0.5432\n",
      "Epoch 79/100\n",
      "50000/50000 [==============================] - 22s 436us/step - loss: 0.0602 - accuracy: 0.9817 - val_loss: 3.9706 - val_accuracy: 0.5401\n",
      "Epoch 80/100\n",
      "50000/50000 [==============================] - 22s 433us/step - loss: 0.0700 - accuracy: 0.9779 - val_loss: 3.7328 - val_accuracy: 0.5383\n",
      "Epoch 81/100\n",
      "50000/50000 [==============================] - 22s 434us/step - loss: 0.0605 - accuracy: 0.9818 - val_loss: 3.9021 - val_accuracy: 0.5428\n",
      "Epoch 82/100\n",
      "50000/50000 [==============================] - 22s 447us/step - loss: 0.0659 - accuracy: 0.9804 - val_loss: 3.8848 - val_accuracy: 0.5381\n",
      "Epoch 83/100\n",
      "50000/50000 [==============================] - 22s 446us/step - loss: 0.0556 - accuracy: 0.9832 - val_loss: 3.8384 - val_accuracy: 0.5447\n",
      "Epoch 84/100\n",
      "50000/50000 [==============================] - 21s 425us/step - loss: 0.0473 - accuracy: 0.9858 - val_loss: 4.0673 - val_accuracy: 0.5405\n",
      "Epoch 85/100\n",
      "50000/50000 [==============================] - 22s 434us/step - loss: 0.0593 - accuracy: 0.9819 - val_loss: 3.8774 - val_accuracy: 0.5472\n",
      "Epoch 86/100\n",
      "50000/50000 [==============================] - 22s 436us/step - loss: 0.0537 - accuracy: 0.9837 - val_loss: 4.0480 - val_accuracy: 0.5397\n",
      "Epoch 87/100\n",
      "50000/50000 [==============================] - 22s 436us/step - loss: 0.0526 - accuracy: 0.9838 - val_loss: 3.9408 - val_accuracy: 0.5420\n",
      "Epoch 88/100\n",
      "50000/50000 [==============================] - 24s 474us/step - loss: 0.0492 - accuracy: 0.9853 - val_loss: 4.1654 - val_accuracy: 0.5405\n",
      "Epoch 89/100\n",
      "50000/50000 [==============================] - 23s 463us/step - loss: 0.0723 - accuracy: 0.9784 - val_loss: 3.8199 - val_accuracy: 0.5436\n",
      "Epoch 90/100\n",
      "50000/50000 [==============================] - 22s 444us/step - loss: 0.0587 - accuracy: 0.9822 - val_loss: 3.9668 - val_accuracy: 0.5391\n",
      "Epoch 91/100\n",
      "50000/50000 [==============================] - 22s 443us/step - loss: 0.0569 - accuracy: 0.9825 - val_loss: 3.8183 - val_accuracy: 0.5446\n",
      "Epoch 92/100\n",
      "50000/50000 [==============================] - 22s 443us/step - loss: 0.0476 - accuracy: 0.9860 - val_loss: 3.9443 - val_accuracy: 0.5449\n",
      "Epoch 93/100\n",
      "50000/50000 [==============================] - 22s 448us/step - loss: 0.0555 - accuracy: 0.9836 - val_loss: 3.8867 - val_accuracy: 0.5415\n",
      "Epoch 94/100\n",
      "50000/50000 [==============================] - 22s 448us/step - loss: 0.0569 - accuracy: 0.9830 - val_loss: 4.2039 - val_accuracy: 0.5482\n",
      "Epoch 95/100\n",
      "50000/50000 [==============================] - 22s 435us/step - loss: 0.0580 - accuracy: 0.9817 - val_loss: 4.0622 - val_accuracy: 0.5343\n",
      "Epoch 96/100\n",
      "50000/50000 [==============================] - 22s 449us/step - loss: 0.0547 - accuracy: 0.9834 - val_loss: 4.0029 - val_accuracy: 0.5404\n",
      "Epoch 97/100\n",
      "50000/50000 [==============================] - 22s 447us/step - loss: 0.0442 - accuracy: 0.9876 - val_loss: 3.8875 - val_accuracy: 0.5418\n",
      "Epoch 98/100\n",
      "50000/50000 [==============================] - 22s 442us/step - loss: 0.0507 - accuracy: 0.9851 - val_loss: 3.9655 - val_accuracy: 0.5450\n",
      "Epoch 99/100\n",
      "50000/50000 [==============================] - 22s 446us/step - loss: 0.0538 - accuracy: 0.9850 - val_loss: 3.9482 - val_accuracy: 0.5495\n",
      "Epoch 100/100\n",
      "50000/50000 [==============================] - 22s 444us/step - loss: 0.0556 - accuracy: 0.9838 - val_loss: 3.9122 - val_accuracy: 0.5474\n"
     ]
    },
    {
     "data": {
      "text/plain": [
       "<keras.callbacks.callbacks.History at 0x147f56a90>"
      ]
     },
     "execution_count": 30,
     "metadata": {},
     "output_type": "execute_result"
    }
   ],
   "source": [
    "model.fit(x_train, y_train, \n",
    "          epochs=EPOCHS, \n",
    "          batch_size=BATCH_SIZE, \n",
    "          validation_data=(x_test, y_test), \n",
    "          shuffle=True)"
   ]
  },
  {
   "cell_type": "code",
   "execution_count": 31,
   "metadata": {},
   "outputs": [
    {
     "data": {
      "image/png": "[encoded data removed]",
      "text/plain": [
       "<Figure size 432x288 with 1 Axes>"
      ]
     },
     "metadata": {
      "needs_background": "light"
     },
     "output_type": "display_data"
    },
    {
     "data": {
      "image/png": "[encoded data removed]",
      "text/plain": [
       "<Figure size 432x288 with 1 Axes>"
      ]
     },
     "metadata": {
      "needs_background": "light"
     },
     "output_type": "display_data"
    }
   ],
   "source": [
    "import matplotlib.pyplot as plt\n",
    "\n",
    "\n",
    "train_loss = model.history.history[\"loss\"]\n",
    "valid_loss = model.history.history[\"val_loss\"]\n",
    "\n",
    "train_acc = model.history.history[\"accuracy\"]\n",
    "valid_acc = model.history.history[\"val_accuracy\"]\n",
    "\n",
    "plt.plot(range(len(train_loss)), train_loss, label=\"train loss\")\n",
    "plt.plot(range(len(valid_loss)), valid_loss, label=\"valid loss\")\n",
    "plt.legend()\n",
    "plt.title(\"Loss\")\n",
    "plt.show()\n",
    "\n",
    "plt.plot(range(len(train_acc)), train_acc, label=\"train accuracy\")\n",
    "plt.plot(range(len(valid_acc)), valid_acc, label=\"valid accuracy\")\n",
    "plt.legend()\n",
    "plt.title(\"Accuracy\")\n",
    "plt.show()"
   ]
  },
  {
   "cell_type": "code",
   "execution_count": null,
   "metadata": {},
   "outputs": [],
   "source": []
  }
 ],
 "metadata": {
  "kernelspec": {
   "display_name": "Python 3",
   "language": "python",
   "name": "python3"
  },
  "language_info": {
   "codemirror_mode": {
    "name": "ipython",
    "version": 3
   },
   "file_extension": ".py",
   "mimetype": "text/x-python",
   "name": "python",
   "nbconvert_exporter": "python",
   "pygments_lexer": "ipython3",
   "version": "3.7.4"
  }
 },
 "nbformat": 4,
 "nbformat_minor": 2
}
