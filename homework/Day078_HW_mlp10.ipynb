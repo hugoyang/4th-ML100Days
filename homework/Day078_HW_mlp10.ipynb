{
 "cells": [
  {
   "cell_type": "markdown",
   "metadata": {},
   "source": [
    "## Work\n",
    "1. 請嘗試將 preproc_x 替換成以每筆資料的 min/max 進行標準化至 -1 ~ 1 間，再進行訓練\n",
    "2. 請嘗試將 mlp 疊更深 (e.g 5~10 層)，進行訓練後觀察 learning curve 的走勢\n",
    "3. (optional) 請改用 GPU 進行訓練 (如果你有 GPU 的話)，比較使用 CPU 與 GPU 的訓練速度"
   ]
  },
  {
   "cell_type": "code",
   "execution_count": 43,
   "metadata": {},
   "outputs": [
    {
     "name": "stdout",
     "output_type": "stream",
     "text": [
      "/bin/sh: nvidia-smi: command not found\r\n"
     ]
    }
   ],
   "source": [
    "## \n",
    "\"\"\"\n",
    "Your code here (optional)\n",
    "確認硬體資源\n",
    "\"\"\"\n",
    "!nvidia-smi"
   ]
  },
  {
   "cell_type": "code",
   "execution_count": 44,
   "metadata": {},
   "outputs": [],
   "source": [
    "import os\n",
    "import keras\n",
    "\n",
    "# 請嘗試設定 GPU：os.environ\n",
    "os.environ[\"CUDA_VISIBLE_DEVICES\"] = \"\""
   ]
  },
  {
   "cell_type": "code",
   "execution_count": 45,
   "metadata": {},
   "outputs": [],
   "source": [
    "train, test = keras.datasets.cifar10.load_data()"
   ]
  },
  {
   "cell_type": "code",
   "execution_count": 46,
   "metadata": {},
   "outputs": [],
   "source": [
    "## 資料前處理\n",
    "\"\"\"\n",
    "Your code here\n",
    "\"\"\"\n",
    "import numpy as np\n",
    "\n",
    "def preproc_x(x, flatten=True):\n",
    "    max_val = np.max(x)\n",
    "    min_val = np.min(x)\n",
    "    x = ((x - min_val) / (max_val - min_val) - 0.5)*2\n",
    "    \n",
    "    if flatten:\n",
    "        x = x.reshape((len(x), -1))\n",
    "    return x\n",
    "\n",
    "def preproc_y(y, num_classes=10):\n",
    "    if y.shape[-1] == 1:\n",
    "        y = keras.utils.to_categorical(y, num_classes)\n",
    "    return y"
   ]
  },
  {
   "cell_type": "code",
   "execution_count": 47,
   "metadata": {},
   "outputs": [],
   "source": [
    "x_train, y_train = train\n",
    "x_test, y_test = test\n",
    "\n",
    "\n",
    "# Preproc the inputs\n",
    "x_train = preproc_x(x_train)\n",
    "x_test = preproc_x(x_test)\n",
    "\n",
    "# Preprc the outputs\n",
    "y_train = preproc_y(y_train)\n",
    "y_test = preproc_y(y_test)\n"
   ]
  },
  {
   "cell_type": "code",
   "execution_count": 48,
   "metadata": {},
   "outputs": [
    {
     "name": "stdout",
     "output_type": "stream",
     "text": [
      "Model: \"model_6\"\n",
      "_________________________________________________________________\n",
      "Layer (type)                 Output Shape              Param #   \n",
      "=================================================================\n",
      "input_6 (InputLayer)         (None, 3072)              0         \n",
      "_________________________________________________________________\n",
      "hidden_layer1 (Dense)        (None, 1024)              3146752   \n",
      "_________________________________________________________________\n",
      "hidden_layer2 (Dense)        (None, 512)               524800    \n",
      "_________________________________________________________________\n",
      "hidden_layer3 (Dense)        (None, 512)               262656    \n",
      "_________________________________________________________________\n",
      "hidden_layer4 (Dense)        (None, 512)               262656    \n",
      "_________________________________________________________________\n",
      "hidden_layer5 (Dense)        (None, 512)               262656    \n",
      "_________________________________________________________________\n",
      "hidden_layer6 (Dense)        (None, 512)               262656    \n",
      "_________________________________________________________________\n",
      "hidden_layer7 (Dense)        (None, 512)               262656    \n",
      "_________________________________________________________________\n",
      "hidden_layer8 (Dense)        (None, 512)               262656    \n",
      "_________________________________________________________________\n",
      "hidden_layer9 (Dense)        (None, 256)               131328    \n",
      "_________________________________________________________________\n",
      "hidden_layer10 (Dense)       (None, 128)               32896     \n",
      "_________________________________________________________________\n",
      "output (Dense)               (None, 10)                1290      \n",
      "=================================================================\n",
      "Total params: 5,413,002\n",
      "Trainable params: 5,413,002\n",
      "Non-trainable params: 0\n",
      "_________________________________________________________________\n"
     ]
    }
   ],
   "source": [
    "\"\"\"Code Here\n",
    "建立你的神經網路\n",
    "\"\"\"\n",
    "def build_mlp(input_shape, output_units=10, num_neurons=[512, 256, 128]):\n",
    "    input_layer = keras.layers.Input(input_shape)\n",
    "    \n",
    "    for i, n_units in enumerate(num_neurons):\n",
    "        if i == 0:\n",
    "            x = keras.layers.Dense(units=n_units, activation=\"relu\", name=\"hidden_layer\"+str(i+1))(input_layer)\n",
    "        else:\n",
    "            x = keras.layers.Dense(units=n_units, activation=\"relu\", name=\"hidden_layer\"+str(i+1))(x)\n",
    "    \n",
    "    out = keras.layers.Dense(units=output_units, activation=\"softmax\", name=\"output\")(x)\n",
    "    \n",
    "    model = keras.models.Model(inputs=[input_layer], outputs=[out])\n",
    "    return model\n",
    "\n",
    "model_num_neurons = [1024, 512, 512, 512, 512, 512, 512, 512, 256, 128]\n",
    "model = build_mlp(input_shape=x_train.shape[1:], num_neurons=model_num_neurons)\n",
    "model.summary()"
   ]
  },
  {
   "cell_type": "code",
   "execution_count": 49,
   "metadata": {},
   "outputs": [],
   "source": [
    "## 超參數設定\n",
    "LEARNING_RATE = 0.001\n",
    "EPOCHS = 100\n",
    "BATCH_SIZE = 256"
   ]
  },
  {
   "cell_type": "code",
   "execution_count": 50,
   "metadata": {},
   "outputs": [],
   "source": [
    "optimizer = keras.optimizers.Adam(lr=LEARNING_RATE)\n",
    "model.compile(loss=\"categorical_crossentropy\", metrics=[\"accuracy\"], optimizer=optimizer)"
   ]
  },
  {
   "cell_type": "code",
   "execution_count": 51,
   "metadata": {},
   "outputs": [
    {
     "name": "stdout",
     "output_type": "stream",
     "text": [
      "Train on 50000 samples, validate on 10000 samples\n",
      "Epoch 1/100\n",
      "50000/50000 [==============================] - 45s 892us/step - loss: 1.7777 - accuracy: 0.3586 - val_loss: 1.6326 - val_accuracy: 0.4242\n",
      "Epoch 2/100\n",
      "50000/50000 [==============================] - 28s 565us/step - loss: 1.5387 - accuracy: 0.4556 - val_loss: 1.5075 - val_accuracy: 0.4678\n",
      "Epoch 3/100\n",
      "50000/50000 [==============================] - 30s 595us/step - loss: 1.4178 - accuracy: 0.5000 - val_loss: 1.4570 - val_accuracy: 0.4881\n",
      "Epoch 4/100\n",
      "50000/50000 [==============================] - 29s 576us/step - loss: 1.3122 - accuracy: 0.5372 - val_loss: 1.3826 - val_accuracy: 0.5255\n",
      "Epoch 5/100\n",
      "50000/50000 [==============================] - 26s 530us/step - loss: 1.2249 - accuracy: 0.5696 - val_loss: 1.4064 - val_accuracy: 0.5108\n",
      "Epoch 6/100\n",
      "50000/50000 [==============================] - 29s 582us/step - loss: 1.1400 - accuracy: 0.6015 - val_loss: 1.3709 - val_accuracy: 0.5311\n",
      "Epoch 7/100\n",
      "50000/50000 [==============================] - 30s 604us/step - loss: 1.0653 - accuracy: 0.6244 - val_loss: 1.3923 - val_accuracy: 0.5338\n",
      "Epoch 8/100\n",
      "50000/50000 [==============================] - 27s 530us/step - loss: 0.9895 - accuracy: 0.6530 - val_loss: 1.3692 - val_accuracy: 0.5506\n",
      "Epoch 9/100\n",
      "50000/50000 [==============================] - 26s 510us/step - loss: 0.9122 - accuracy: 0.6802 - val_loss: 1.4150 - val_accuracy: 0.5398\n",
      "Epoch 10/100\n",
      "50000/50000 [==============================] - 26s 511us/step - loss: 0.8445 - accuracy: 0.7061 - val_loss: 1.4316 - val_accuracy: 0.5322\n",
      "Epoch 11/100\n",
      "50000/50000 [==============================] - 26s 512us/step - loss: 0.7673 - accuracy: 0.7320 - val_loss: 1.5241 - val_accuracy: 0.5464\n",
      "Epoch 12/100\n",
      "50000/50000 [==============================] - 26s 513us/step - loss: 0.7006 - accuracy: 0.7552 - val_loss: 1.6058 - val_accuracy: 0.5424\n",
      "Epoch 13/100\n",
      "50000/50000 [==============================] - 26s 512us/step - loss: 0.6504 - accuracy: 0.7738 - val_loss: 1.5874 - val_accuracy: 0.5453\n",
      "Epoch 14/100\n",
      "50000/50000 [==============================] - 25s 510us/step - loss: 0.5885 - accuracy: 0.7962 - val_loss: 1.6663 - val_accuracy: 0.5419\n",
      "Epoch 15/100\n",
      "50000/50000 [==============================] - 26s 511us/step - loss: 0.5276 - accuracy: 0.8174 - val_loss: 1.7795 - val_accuracy: 0.5403\n",
      "Epoch 16/100\n",
      "50000/50000 [==============================] - 26s 512us/step - loss: 0.4850 - accuracy: 0.8335 - val_loss: 1.7545 - val_accuracy: 0.5483\n",
      "Epoch 17/100\n",
      "50000/50000 [==============================] - 26s 511us/step - loss: 0.4554 - accuracy: 0.8436 - val_loss: 1.9048 - val_accuracy: 0.5385\n",
      "Epoch 18/100\n",
      "50000/50000 [==============================] - 26s 511us/step - loss: 0.4168 - accuracy: 0.8596 - val_loss: 1.9988 - val_accuracy: 0.5466\n",
      "Epoch 19/100\n",
      "50000/50000 [==============================] - 26s 515us/step - loss: 0.3696 - accuracy: 0.8745 - val_loss: 2.0686 - val_accuracy: 0.5426\n",
      "Epoch 20/100\n",
      "50000/50000 [==============================] - 25s 509us/step - loss: 0.3383 - accuracy: 0.8860 - val_loss: 2.1627 - val_accuracy: 0.5394\n",
      "Epoch 21/100\n",
      "50000/50000 [==============================] - 26s 516us/step - loss: 0.3130 - accuracy: 0.8937 - val_loss: 2.2459 - val_accuracy: 0.5390\n",
      "Epoch 22/100\n",
      "50000/50000 [==============================] - 26s 512us/step - loss: 0.2853 - accuracy: 0.9050 - val_loss: 2.2798 - val_accuracy: 0.5425\n",
      "Epoch 23/100\n",
      "50000/50000 [==============================] - 26s 512us/step - loss: 0.2616 - accuracy: 0.9141 - val_loss: 2.2794 - val_accuracy: 0.5395\n",
      "Epoch 24/100\n",
      "50000/50000 [==============================] - 26s 515us/step - loss: 0.2417 - accuracy: 0.9203 - val_loss: 2.5073 - val_accuracy: 0.5364\n",
      "Epoch 25/100\n",
      "50000/50000 [==============================] - 26s 511us/step - loss: 0.2365 - accuracy: 0.9228 - val_loss: 2.6516 - val_accuracy: 0.5357\n",
      "Epoch 26/100\n",
      "50000/50000 [==============================] - 26s 512us/step - loss: 0.2227 - accuracy: 0.9284 - val_loss: 2.5695 - val_accuracy: 0.5454\n",
      "Epoch 27/100\n",
      "50000/50000 [==============================] - 26s 512us/step - loss: 0.2080 - accuracy: 0.9323 - val_loss: 2.5097 - val_accuracy: 0.5420\n",
      "Epoch 28/100\n",
      "50000/50000 [==============================] - 28s 564us/step - loss: 0.2000 - accuracy: 0.9348 - val_loss: 2.4982 - val_accuracy: 0.5450\n",
      "Epoch 29/100\n",
      "50000/50000 [==============================] - 26s 512us/step - loss: 0.1918 - accuracy: 0.9373 - val_loss: 2.5970 - val_accuracy: 0.5427\n",
      "Epoch 30/100\n",
      "50000/50000 [==============================] - 26s 512us/step - loss: 0.1810 - accuracy: 0.9413 - val_loss: 2.5384 - val_accuracy: 0.5445\n",
      "Epoch 31/100\n",
      "50000/50000 [==============================] - 26s 512us/step - loss: 0.1631 - accuracy: 0.9457 - val_loss: 2.7548 - val_accuracy: 0.5439\n",
      "Epoch 32/100\n",
      "50000/50000 [==============================] - 26s 512us/step - loss: 0.1554 - accuracy: 0.9508 - val_loss: 3.1483 - val_accuracy: 0.5426\n",
      "Epoch 33/100\n",
      "50000/50000 [==============================] - 26s 512us/step - loss: 0.1612 - accuracy: 0.9479 - val_loss: 2.6959 - val_accuracy: 0.5438\n",
      "Epoch 34/100\n",
      "50000/50000 [==============================] - 26s 510us/step - loss: 0.1335 - accuracy: 0.9566 - val_loss: 2.8667 - val_accuracy: 0.5406\n",
      "Epoch 35/100\n",
      "50000/50000 [==============================] - 26s 512us/step - loss: 0.1441 - accuracy: 0.9525 - val_loss: 2.6473 - val_accuracy: 0.5386\n",
      "Epoch 36/100\n",
      "50000/50000 [==============================] - 26s 511us/step - loss: 0.1331 - accuracy: 0.9581 - val_loss: 2.9926 - val_accuracy: 0.5424\n",
      "Epoch 37/100\n",
      "50000/50000 [==============================] - 25s 509us/step - loss: 0.1303 - accuracy: 0.9583 - val_loss: 2.8195 - val_accuracy: 0.5404\n",
      "Epoch 38/100\n",
      "50000/50000 [==============================] - 26s 510us/step - loss: 0.1386 - accuracy: 0.9557 - val_loss: 3.1490 - val_accuracy: 0.5395\n",
      "Epoch 39/100\n",
      "50000/50000 [==============================] - 25s 508us/step - loss: 0.1236 - accuracy: 0.9607 - val_loss: 2.8633 - val_accuracy: 0.5461\n",
      "Epoch 40/100\n",
      "50000/50000 [==============================] - 25s 510us/step - loss: 0.1042 - accuracy: 0.9663 - val_loss: 2.9944 - val_accuracy: 0.5438\n",
      "Epoch 41/100\n",
      "50000/50000 [==============================] - 25s 509us/step - loss: 0.1157 - accuracy: 0.9632 - val_loss: 2.7302 - val_accuracy: 0.5460\n",
      "Epoch 42/100\n",
      "50000/50000 [==============================] - 26s 510us/step - loss: 0.1122 - accuracy: 0.9641 - val_loss: 2.8418 - val_accuracy: 0.5400\n",
      "Epoch 43/100\n",
      "50000/50000 [==============================] - 25s 509us/step - loss: 0.1116 - accuracy: 0.9655 - val_loss: 3.0253 - val_accuracy: 0.5441\n",
      "Epoch 44/100\n",
      "50000/50000 [==============================] - 25s 508us/step - loss: 0.1053 - accuracy: 0.9670 - val_loss: 2.9922 - val_accuracy: 0.5391\n",
      "Epoch 45/100\n",
      "50000/50000 [==============================] - 26s 512us/step - loss: 0.1126 - accuracy: 0.9644 - val_loss: 2.9150 - val_accuracy: 0.5321\n",
      "Epoch 46/100\n",
      "50000/50000 [==============================] - 26s 510us/step - loss: 0.1077 - accuracy: 0.9664 - val_loss: 3.3216 - val_accuracy: 0.5472\n",
      "Epoch 47/100\n",
      "50000/50000 [==============================] - 26s 513us/step - loss: 0.1005 - accuracy: 0.9688 - val_loss: 3.0595 - val_accuracy: 0.5363\n",
      "Epoch 48/100\n",
      "50000/50000 [==============================] - 26s 512us/step - loss: 0.0995 - accuracy: 0.9689 - val_loss: 3.1538 - val_accuracy: 0.5420\n",
      "Epoch 49/100\n",
      "50000/50000 [==============================] - 25s 510us/step - loss: 0.1126 - accuracy: 0.9646 - val_loss: 2.8830 - val_accuracy: 0.5455\n",
      "Epoch 50/100\n",
      "50000/50000 [==============================] - 26s 510us/step - loss: 0.0895 - accuracy: 0.9726 - val_loss: 3.2840 - val_accuracy: 0.5502\n",
      "Epoch 51/100\n",
      "50000/50000 [==============================] - 26s 510us/step - loss: 0.0902 - accuracy: 0.9715 - val_loss: 3.0749 - val_accuracy: 0.5457\n",
      "Epoch 52/100\n",
      "50000/50000 [==============================] - 25s 510us/step - loss: 0.0791 - accuracy: 0.9751 - val_loss: 3.3330 - val_accuracy: 0.5342\n",
      "Epoch 53/100\n",
      "50000/50000 [==============================] - 26s 511us/step - loss: 0.0862 - accuracy: 0.9731 - val_loss: 3.0645 - val_accuracy: 0.5391\n",
      "Epoch 54/100\n",
      "50000/50000 [==============================] - 26s 512us/step - loss: 0.0933 - accuracy: 0.9703 - val_loss: 3.2891 - val_accuracy: 0.5369\n",
      "Epoch 55/100\n",
      "50000/50000 [==============================] - 25s 510us/step - loss: 0.1028 - accuracy: 0.9686 - val_loss: 3.1762 - val_accuracy: 0.5454\n",
      "Epoch 56/100\n",
      "50000/50000 [==============================] - 26s 511us/step - loss: 0.0814 - accuracy: 0.9757 - val_loss: 3.1091 - val_accuracy: 0.5436\n",
      "Epoch 57/100\n",
      "50000/50000 [==============================] - 25s 510us/step - loss: 0.0844 - accuracy: 0.9746 - val_loss: 3.0292 - val_accuracy: 0.5390\n",
      "Epoch 58/100\n",
      "50000/50000 [==============================] - 26s 511us/step - loss: 0.0756 - accuracy: 0.9770 - val_loss: 3.2813 - val_accuracy: 0.5400\n",
      "Epoch 59/100\n",
      "50000/50000 [==============================] - 26s 512us/step - loss: 0.0910 - accuracy: 0.9724 - val_loss: 3.3471 - val_accuracy: 0.5409\n",
      "Epoch 60/100\n",
      "50000/50000 [==============================] - 26s 511us/step - loss: 0.0868 - accuracy: 0.9734 - val_loss: 3.1657 - val_accuracy: 0.5426\n",
      "Epoch 61/100\n",
      "50000/50000 [==============================] - 26s 511us/step - loss: 0.0740 - accuracy: 0.9768 - val_loss: 3.1316 - val_accuracy: 0.5463\n",
      "Epoch 62/100\n",
      "50000/50000 [==============================] - 26s 512us/step - loss: 0.0690 - accuracy: 0.9793 - val_loss: 3.1379 - val_accuracy: 0.5440\n",
      "Epoch 63/100\n",
      "50000/50000 [==============================] - 25s 510us/step - loss: 0.0852 - accuracy: 0.9743 - val_loss: 3.0023 - val_accuracy: 0.5443\n",
      "Epoch 64/100\n",
      "50000/50000 [==============================] - 26s 512us/step - loss: 0.0671 - accuracy: 0.9804 - val_loss: 3.3136 - val_accuracy: 0.5486\n",
      "Epoch 65/100\n",
      "50000/50000 [==============================] - 26s 510us/step - loss: 0.0690 - accuracy: 0.9794 - val_loss: 3.6106 - val_accuracy: 0.5430\n",
      "Epoch 66/100\n",
      "50000/50000 [==============================] - 26s 512us/step - loss: 0.0931 - accuracy: 0.9718 - val_loss: 3.1750 - val_accuracy: 0.5488\n",
      "Epoch 67/100\n",
      "50000/50000 [==============================] - 25s 508us/step - loss: 0.0694 - accuracy: 0.9785 - val_loss: 3.2287 - val_accuracy: 0.5461\n",
      "Epoch 68/100\n",
      "50000/50000 [==============================] - 26s 511us/step - loss: 0.0625 - accuracy: 0.9808 - val_loss: 2.8823 - val_accuracy: 0.5480\n",
      "Epoch 69/100\n",
      "50000/50000 [==============================] - 26s 512us/step - loss: 0.0768 - accuracy: 0.9777 - val_loss: 3.4121 - val_accuracy: 0.5463\n",
      "Epoch 70/100\n",
      "50000/50000 [==============================] - 26s 511us/step - loss: 0.0631 - accuracy: 0.9813 - val_loss: 3.2119 - val_accuracy: 0.5433\n",
      "Epoch 71/100\n",
      "50000/50000 [==============================] - 26s 521us/step - loss: 0.0816 - accuracy: 0.9759 - val_loss: 3.0398 - val_accuracy: 0.5427\n",
      "Epoch 72/100\n",
      "50000/50000 [==============================] - 26s 514us/step - loss: 0.0746 - accuracy: 0.9777 - val_loss: 3.0292 - val_accuracy: 0.5459\n",
      "Epoch 73/100\n",
      "50000/50000 [==============================] - 26s 513us/step - loss: 0.0634 - accuracy: 0.9808 - val_loss: 3.3325 - val_accuracy: 0.5444\n",
      "Epoch 74/100\n",
      "50000/50000 [==============================] - 26s 512us/step - loss: 0.0758 - accuracy: 0.9775 - val_loss: 3.2423 - val_accuracy: 0.5462\n",
      "Epoch 75/100\n",
      "50000/50000 [==============================] - 26s 515us/step - loss: 0.0632 - accuracy: 0.9809 - val_loss: 3.3253 - val_accuracy: 0.5483\n",
      "Epoch 76/100\n",
      "50000/50000 [==============================] - 26s 514us/step - loss: 0.0607 - accuracy: 0.9823 - val_loss: 3.8281 - val_accuracy: 0.5489\n",
      "Epoch 77/100\n",
      "50000/50000 [==============================] - 26s 514us/step - loss: 0.0605 - accuracy: 0.9814 - val_loss: 3.1859 - val_accuracy: 0.5446\n",
      "Epoch 78/100\n",
      "50000/50000 [==============================] - 26s 518us/step - loss: 0.0691 - accuracy: 0.9802 - val_loss: 3.2868 - val_accuracy: 0.5468\n",
      "Epoch 79/100\n",
      "50000/50000 [==============================] - 26s 516us/step - loss: 0.0552 - accuracy: 0.9830 - val_loss: 3.6483 - val_accuracy: 0.5500\n",
      "Epoch 80/100\n",
      "50000/50000 [==============================] - 26s 511us/step - loss: 0.0534 - accuracy: 0.9834 - val_loss: 3.4384 - val_accuracy: 0.5468\n",
      "Epoch 81/100\n",
      "50000/50000 [==============================] - 26s 511us/step - loss: 0.0537 - accuracy: 0.9842 - val_loss: 3.2476 - val_accuracy: 0.5451\n",
      "Epoch 82/100\n",
      "50000/50000 [==============================] - 26s 513us/step - loss: 0.0596 - accuracy: 0.9823 - val_loss: 3.1882 - val_accuracy: 0.5480\n",
      "Epoch 83/100\n",
      "50000/50000 [==============================] - 26s 515us/step - loss: 0.0589 - accuracy: 0.9823 - val_loss: 3.3530 - val_accuracy: 0.5452\n",
      "Epoch 84/100\n",
      "50000/50000 [==============================] - 26s 511us/step - loss: 0.0565 - accuracy: 0.9834 - val_loss: 3.3580 - val_accuracy: 0.5441\n",
      "Epoch 85/100\n",
      "50000/50000 [==============================] - 26s 512us/step - loss: 0.0580 - accuracy: 0.9828 - val_loss: 3.2981 - val_accuracy: 0.5469\n",
      "Epoch 86/100\n",
      "50000/50000 [==============================] - 26s 512us/step - loss: 0.0579 - accuracy: 0.9821 - val_loss: 3.4837 - val_accuracy: 0.5437\n",
      "Epoch 87/100\n",
      "50000/50000 [==============================] - 26s 513us/step - loss: 0.0720 - accuracy: 0.9786 - val_loss: 3.1957 - val_accuracy: 0.5459\n",
      "Epoch 88/100\n",
      "50000/50000 [==============================] - 26s 513us/step - loss: 0.0625 - accuracy: 0.9817 - val_loss: 3.2821 - val_accuracy: 0.5439\n",
      "Epoch 89/100\n",
      "50000/50000 [==============================] - 26s 511us/step - loss: 0.0652 - accuracy: 0.9807 - val_loss: 3.3285 - val_accuracy: 0.5456\n",
      "Epoch 90/100\n",
      "50000/50000 [==============================] - 25s 509us/step - loss: 0.0561 - accuracy: 0.9836 - val_loss: 3.0512 - val_accuracy: 0.5406\n",
      "Epoch 91/100\n",
      "50000/50000 [==============================] - 26s 511us/step - loss: 0.0587 - accuracy: 0.9832 - val_loss: 3.0840 - val_accuracy: 0.5445\n",
      "Epoch 92/100\n",
      "50000/50000 [==============================] - 26s 511us/step - loss: 0.0633 - accuracy: 0.9807 - val_loss: 3.5234 - val_accuracy: 0.5502\n",
      "Epoch 93/100\n",
      "50000/50000 [==============================] - 26s 515us/step - loss: 0.0492 - accuracy: 0.9852 - val_loss: 3.6671 - val_accuracy: 0.5519\n",
      "Epoch 94/100\n",
      "50000/50000 [==============================] - 26s 515us/step - loss: 0.0589 - accuracy: 0.9822 - val_loss: 3.1669 - val_accuracy: 0.5420\n",
      "Epoch 95/100\n",
      "50000/50000 [==============================] - 26s 513us/step - loss: 0.0566 - accuracy: 0.9833 - val_loss: 3.2683 - val_accuracy: 0.5367\n",
      "Epoch 96/100\n",
      "50000/50000 [==============================] - 26s 512us/step - loss: 0.0596 - accuracy: 0.9824 - val_loss: 3.5098 - val_accuracy: 0.5517\n",
      "Epoch 97/100\n",
      "50000/50000 [==============================] - 26s 514us/step - loss: 0.0523 - accuracy: 0.9843 - val_loss: 3.6393 - val_accuracy: 0.5491\n",
      "Epoch 98/100\n",
      "50000/50000 [==============================] - 28s 551us/step - loss: 0.0548 - accuracy: 0.9842 - val_loss: 3.8090 - val_accuracy: 0.5512\n",
      "Epoch 99/100\n",
      "50000/50000 [==============================] - 26s 519us/step - loss: 0.0486 - accuracy: 0.9863 - val_loss: 3.2702 - val_accuracy: 0.5430\n",
      "Epoch 100/100\n",
      "50000/50000 [==============================] - 26s 511us/step - loss: 0.0545 - accuracy: 0.9842 - val_loss: 3.3540 - val_accuracy: 0.5441\n"
     ]
    },
    {
     "data": {
      "text/plain": [
       "<keras.callbacks.callbacks.History at 0x152631690>"
      ]
     },
     "execution_count": 51,
     "metadata": {},
     "output_type": "execute_result"
    }
   ],
   "source": [
    "model.fit(x_train, y_train, \n",
    "          epochs=EPOCHS, \n",
    "          batch_size=BATCH_SIZE, \n",
    "          validation_data=(x_test, y_test), \n",
    "          shuffle=True)"
   ]
  },
  {
   "cell_type": "code",
   "execution_count": 52,
   "metadata": {},
   "outputs": [
    {
     "data": {
      "image/png": "[encoded data removed]",
      "text/plain": [
       "<Figure size 432x288 with 1 Axes>"
      ]
     },
     "metadata": {
      "needs_background": "light"
     },
     "output_type": "display_data"
    },
    {
     "data": {
      "image/png": "[encoded data removed]",
      "text/plain": [
       "<Figure size 432x288 with 1 Axes>"
      ]
     },
     "metadata": {
      "needs_background": "light"
     },
     "output_type": "display_data"
    }
   ],
   "source": [
    "import matplotlib.pyplot as plt\n",
    "\n",
    "\n",
    "train_loss = model.history.history[\"loss\"]\n",
    "valid_loss = model.history.history[\"val_loss\"]\n",
    "\n",
    "train_acc = model.history.history[\"accuracy\"]\n",
    "valid_acc = model.history.history[\"val_accuracy\"]\n",
    "\n",
    "plt.plot(range(len(train_loss)), train_loss, label=\"train loss\")\n",
    "plt.plot(range(len(valid_loss)), valid_loss, label=\"valid loss\")\n",
    "plt.legend()\n",
    "plt.title(\"Loss\")\n",
    "plt.show()\n",
    "\n",
    "plt.plot(range(len(train_acc)), train_acc, label=\"train accuracy\")\n",
    "plt.plot(range(len(valid_acc)), valid_acc, label=\"valid accuracy\")\n",
    "plt.legend()\n",
    "plt.title(\"Accuracy\")\n",
    "plt.show()"
   ]
  },
  {
   "cell_type": "code",
   "execution_count": null,
   "metadata": {},
   "outputs": [],
   "source": []
  }
 ],
 "metadata": {
  "kernelspec": {
   "display_name": "Python 3",
   "language": "python",
   "name": "python3"
  },
  "language_info": {
   "codemirror_mode": {
    "name": "ipython",
    "version": 3
   },
   "file_extension": ".py",
   "mimetype": "text/x-python",
   "name": "python",
   "nbconvert_exporter": "python",
   "pygments_lexer": "ipython3",
   "version": "3.7.4"
  }
 },
 "nbformat": 4,
 "nbformat_minor": 2
}
