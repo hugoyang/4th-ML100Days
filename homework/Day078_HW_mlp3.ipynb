{
 "cells": [
  {
   "cell_type": "markdown",
   "metadata": {},
   "source": [
    "## Work\n",
    "1. 請嘗試將 preproc_x 替換成以每筆資料的 min/max 進行標準化至 -1 ~ 1 間，再進行訓練\n",
    "2. 請嘗試將 mlp 疊更深 (e.g 5~10 層)，進行訓練後觀察 learning curve 的走勢\n",
    "3. (optional) 請改用 GPU 進行訓練 (如果你有 GPU 的話)，比較使用 CPU 與 GPU 的訓練速度"
   ]
  },
  {
   "cell_type": "code",
   "execution_count": 43,
   "metadata": {},
   "outputs": [
    {
     "name": "stdout",
     "output_type": "stream",
     "text": [
      "/bin/sh: nvidia-smi: command not found\r\n"
     ]
    }
   ],
   "source": [
    "## \n",
    "\"\"\"\n",
    "Your code here (optional)\n",
    "確認硬體資源\n",
    "\"\"\"\n",
    "!nvidia-smi"
   ]
  },
  {
   "cell_type": "code",
   "execution_count": 44,
   "metadata": {},
   "outputs": [],
   "source": [
    "import os\n",
    "import keras\n",
    "\n",
    "# 請嘗試設定 GPU：os.environ\n",
    "os.environ[\"CUDA_VISIBLE_DEVICES\"] = \"\""
   ]
  },
  {
   "cell_type": "code",
   "execution_count": 45,
   "metadata": {},
   "outputs": [],
   "source": [
    "train, test = keras.datasets.cifar10.load_data()"
   ]
  },
  {
   "cell_type": "code",
   "execution_count": 46,
   "metadata": {},
   "outputs": [],
   "source": [
    "## 資料前處理\n",
    "\"\"\"\n",
    "Your code here\n",
    "\"\"\"\n",
    "import numpy as np\n",
    "\n",
    "def preproc_x(x, flatten=True):\n",
    "    max_val = np.max(x)\n",
    "    min_val = np.min(x)\n",
    "    x = ((x - min_val) / (max_val - min_val) - 0.5)*2\n",
    "    \n",
    "    if flatten:\n",
    "        x = x.reshape((len(x), -1))\n",
    "    return x\n",
    "\n",
    "def preproc_y(y, num_classes=10):\n",
    "    if y.shape[-1] == 1:\n",
    "        y = keras.utils.to_categorical(y, num_classes)\n",
    "    return y"
   ]
  },
  {
   "cell_type": "code",
   "execution_count": 47,
   "metadata": {},
   "outputs": [],
   "source": [
    "x_train, y_train = train\n",
    "x_test, y_test = test\n",
    "\n",
    "\n",
    "# Preproc the inputs\n",
    "x_train = preproc_x(x_train)\n",
    "x_test = preproc_x(x_test)\n",
    "\n",
    "# Preprc the outputs\n",
    "y_train = preproc_y(y_train)\n",
    "y_test = preproc_y(y_test)\n"
   ]
  },
  {
   "cell_type": "code",
   "execution_count": 48,
   "metadata": {},
   "outputs": [
    {
     "name": "stdout",
     "output_type": "stream",
     "text": [
      "Model: \"model_4\"\n",
      "_________________________________________________________________\n",
      "Layer (type)                 Output Shape              Param #   \n",
      "=================================================================\n",
      "input_4 (InputLayer)         (None, 3072)              0         \n",
      "_________________________________________________________________\n",
      "hidden_layer1 (Dense)        (None, 512)               1573376   \n",
      "_________________________________________________________________\n",
      "hidden_layer2 (Dense)        (None, 256)               131328    \n",
      "_________________________________________________________________\n",
      "hidden_layer3 (Dense)        (None, 128)               32896     \n",
      "_________________________________________________________________\n",
      "output (Dense)               (None, 10)                1290      \n",
      "=================================================================\n",
      "Total params: 1,738,890\n",
      "Trainable params: 1,738,890\n",
      "Non-trainable params: 0\n",
      "_________________________________________________________________\n"
     ]
    }
   ],
   "source": [
    "\"\"\"Code Here\n",
    "建立你的神經網路\n",
    "\"\"\"\n",
    "def build_mlp(input_shape, output_units=10, num_neurons=[512, 256, 128]):\n",
    "    input_layer = keras.layers.Input(input_shape)\n",
    "    \n",
    "    for i, n_units in enumerate(num_neurons):\n",
    "        if i == 0:\n",
    "            x = keras.layers.Dense(units=n_units, activation=\"relu\", name=\"hidden_layer\"+str(i+1))(input_layer)\n",
    "        else:\n",
    "            x = keras.layers.Dense(units=n_units, activation=\"relu\", name=\"hidden_layer\"+str(i+1))(x)\n",
    "    \n",
    "    out = keras.layers.Dense(units=output_units, activation=\"softmax\", name=\"output\")(x)\n",
    "    \n",
    "    model = keras.models.Model(inputs=[input_layer], outputs=[out])\n",
    "    return model\n",
    "\n",
    "model_num_neurons = [512, 256, 128]\n",
    "model = build_mlp(input_shape=x_train.shape[1:], num_neurons=model_num_neurons)\n",
    "model.summary()"
   ]
  },
  {
   "cell_type": "code",
   "execution_count": 49,
   "metadata": {},
   "outputs": [],
   "source": [
    "## 超參數設定\n",
    "LEARNING_RATE = 0.001\n",
    "EPOCHS = 100\n",
    "BATCH_SIZE = 256"
   ]
  },
  {
   "cell_type": "code",
   "execution_count": 50,
   "metadata": {},
   "outputs": [],
   "source": [
    "optimizer = keras.optimizers.Adam(lr=LEARNING_RATE)\n",
    "model.compile(loss=\"categorical_crossentropy\", metrics=[\"accuracy\"], optimizer=optimizer)"
   ]
  },
  {
   "cell_type": "code",
   "execution_count": 51,
   "metadata": {},
   "outputs": [
    {
     "name": "stdout",
     "output_type": "stream",
     "text": [
      "Train on 50000 samples, validate on 10000 samples\n",
      "Epoch 1/100\n",
      "50000/50000 [==============================] - 11s 224us/step - loss: 1.6683 - accuracy: 0.4108 - val_loss: 1.5225 - val_accuracy: 0.4656\n",
      "Epoch 2/100\n",
      "50000/50000 [==============================] - 9s 182us/step - loss: 1.4454 - accuracy: 0.4906 - val_loss: 1.4630 - val_accuracy: 0.4814\n",
      "Epoch 3/100\n",
      "50000/50000 [==============================] - 10s 203us/step - loss: 1.3226 - accuracy: 0.5374 - val_loss: 1.3993 - val_accuracy: 0.5121\n",
      "Epoch 4/100\n",
      "50000/50000 [==============================] - 10s 198us/step - loss: 1.2205 - accuracy: 0.5701 - val_loss: 1.3758 - val_accuracy: 0.5254\n",
      "Epoch 5/100\n",
      "50000/50000 [==============================] - 10s 208us/step - loss: 1.1329 - accuracy: 0.6024 - val_loss: 1.3478 - val_accuracy: 0.5298\n",
      "Epoch 6/100\n",
      "50000/50000 [==============================] - 10s 209us/step - loss: 1.0444 - accuracy: 0.6330 - val_loss: 1.3747 - val_accuracy: 0.5324\n",
      "Epoch 7/100\n",
      "50000/50000 [==============================] - 10s 202us/step - loss: 0.9652 - accuracy: 0.6603 - val_loss: 1.4150 - val_accuracy: 0.5239\n",
      "Epoch 8/100\n",
      "50000/50000 [==============================] - 11s 211us/step - loss: 0.8836 - accuracy: 0.6896 - val_loss: 1.4407 - val_accuracy: 0.5296\n",
      "Epoch 9/100\n",
      "50000/50000 [==============================] - 10s 200us/step - loss: 0.8102 - accuracy: 0.7127 - val_loss: 1.4890 - val_accuracy: 0.5284\n",
      "Epoch 10/100\n",
      "50000/50000 [==============================] - 11s 213us/step - loss: 0.7388 - accuracy: 0.7398 - val_loss: 1.5398 - val_accuracy: 0.5273\n",
      "Epoch 11/100\n",
      "50000/50000 [==============================] - 12s 231us/step - loss: 0.6686 - accuracy: 0.7653 - val_loss: 1.5895 - val_accuracy: 0.5249\n",
      "Epoch 12/100\n",
      "50000/50000 [==============================] - 12s 234us/step - loss: 0.6056 - accuracy: 0.7879 - val_loss: 1.6517 - val_accuracy: 0.5310\n",
      "Epoch 13/100\n",
      "50000/50000 [==============================] - 12s 246us/step - loss: 0.5357 - accuracy: 0.8118 - val_loss: 1.7649 - val_accuracy: 0.5227\n",
      "Epoch 14/100\n",
      "50000/50000 [==============================] - 12s 238us/step - loss: 0.4913 - accuracy: 0.8271 - val_loss: 1.8634 - val_accuracy: 0.5283\n",
      "Epoch 15/100\n",
      "50000/50000 [==============================] - 12s 239us/step - loss: 0.4301 - accuracy: 0.8517 - val_loss: 2.0073 - val_accuracy: 0.5272\n",
      "Epoch 16/100\n",
      "50000/50000 [==============================] - 12s 241us/step - loss: 0.3965 - accuracy: 0.8629 - val_loss: 2.0302 - val_accuracy: 0.5332\n",
      "Epoch 17/100\n",
      "50000/50000 [==============================] - 12s 232us/step - loss: 0.3595 - accuracy: 0.8758 - val_loss: 2.1525 - val_accuracy: 0.5297\n",
      "Epoch 18/100\n",
      "50000/50000 [==============================] - 12s 246us/step - loss: 0.3323 - accuracy: 0.8839 - val_loss: 2.2618 - val_accuracy: 0.5253\n",
      "Epoch 19/100\n",
      "50000/50000 [==============================] - 12s 236us/step - loss: 0.2992 - accuracy: 0.8959 - val_loss: 2.3932 - val_accuracy: 0.5292\n",
      "Epoch 20/100\n",
      "50000/50000 [==============================] - 12s 242us/step - loss: 0.2713 - accuracy: 0.9059 - val_loss: 2.5080 - val_accuracy: 0.5164\n",
      "Epoch 21/100\n",
      "50000/50000 [==============================] - 12s 235us/step - loss: 0.2641 - accuracy: 0.9071 - val_loss: 2.5769 - val_accuracy: 0.5245\n",
      "Epoch 22/100\n",
      "50000/50000 [==============================] - 12s 245us/step - loss: 0.2362 - accuracy: 0.9186 - val_loss: 2.6747 - val_accuracy: 0.5265\n",
      "Epoch 23/100\n",
      "50000/50000 [==============================] - 12s 247us/step - loss: 0.2132 - accuracy: 0.9274 - val_loss: 2.7611 - val_accuracy: 0.5296\n",
      "Epoch 24/100\n",
      "50000/50000 [==============================] - 12s 246us/step - loss: 0.2237 - accuracy: 0.9231 - val_loss: 2.8583 - val_accuracy: 0.5261\n",
      "Epoch 25/100\n",
      "50000/50000 [==============================] - 12s 243us/step - loss: 0.2076 - accuracy: 0.9283 - val_loss: 2.9222 - val_accuracy: 0.5238\n",
      "Epoch 26/100\n",
      "50000/50000 [==============================] - 13s 257us/step - loss: 0.1771 - accuracy: 0.9385 - val_loss: 2.9806 - val_accuracy: 0.5286\n",
      "Epoch 27/100\n",
      "50000/50000 [==============================] - 12s 249us/step - loss: 0.1789 - accuracy: 0.9395 - val_loss: 3.1334 - val_accuracy: 0.5243\n",
      "Epoch 28/100\n",
      "50000/50000 [==============================] - 13s 252us/step - loss: 0.1909 - accuracy: 0.9352 - val_loss: 3.2002 - val_accuracy: 0.5249\n",
      "Epoch 29/100\n",
      "50000/50000 [==============================] - 13s 252us/step - loss: 0.1649 - accuracy: 0.9445 - val_loss: 3.3707 - val_accuracy: 0.5214\n",
      "Epoch 30/100\n",
      "50000/50000 [==============================] - 12s 244us/step - loss: 0.1499 - accuracy: 0.9479 - val_loss: 3.3706 - val_accuracy: 0.5174\n",
      "Epoch 31/100\n",
      "50000/50000 [==============================] - 13s 257us/step - loss: 0.1515 - accuracy: 0.9477 - val_loss: 3.4210 - val_accuracy: 0.5208\n",
      "Epoch 32/100\n",
      "50000/50000 [==============================] - 12s 246us/step - loss: 0.1684 - accuracy: 0.9430 - val_loss: 3.5833 - val_accuracy: 0.5136\n",
      "Epoch 33/100\n",
      "50000/50000 [==============================] - 13s 250us/step - loss: 0.1770 - accuracy: 0.9400 - val_loss: 3.5473 - val_accuracy: 0.5208\n",
      "Epoch 34/100\n",
      "50000/50000 [==============================] - 12s 246us/step - loss: 0.1573 - accuracy: 0.9468 - val_loss: 3.6203 - val_accuracy: 0.5214\n",
      "Epoch 35/100\n",
      "50000/50000 [==============================] - 13s 257us/step - loss: 0.1183 - accuracy: 0.9597 - val_loss: 3.7276 - val_accuracy: 0.5252\n",
      "Epoch 36/100\n",
      "50000/50000 [==============================] - 10s 200us/step - loss: 0.1360 - accuracy: 0.9536 - val_loss: 3.7264 - val_accuracy: 0.5282\n",
      "Epoch 37/100\n",
      "50000/50000 [==============================] - 11s 214us/step - loss: 0.1279 - accuracy: 0.9565 - val_loss: 3.8275 - val_accuracy: 0.5235\n",
      "Epoch 38/100\n",
      "50000/50000 [==============================] - 10s 198us/step - loss: 0.1261 - accuracy: 0.9585 - val_loss: 3.9083 - val_accuracy: 0.5276\n",
      "Epoch 39/100\n",
      "50000/50000 [==============================] - 11s 219us/step - loss: 0.1527 - accuracy: 0.9473 - val_loss: 3.7788 - val_accuracy: 0.5231\n",
      "Epoch 40/100\n",
      "50000/50000 [==============================] - 11s 218us/step - loss: 0.1350 - accuracy: 0.9550 - val_loss: 3.9130 - val_accuracy: 0.5289\n",
      "Epoch 41/100\n",
      "50000/50000 [==============================] - 10s 204us/step - loss: 0.1103 - accuracy: 0.9636 - val_loss: 3.9927 - val_accuracy: 0.5272\n",
      "Epoch 42/100\n",
      "50000/50000 [==============================] - 11s 216us/step - loss: 0.1102 - accuracy: 0.9619 - val_loss: 4.1585 - val_accuracy: 0.5301\n",
      "Epoch 43/100\n",
      "50000/50000 [==============================] - 10s 203us/step - loss: 0.1355 - accuracy: 0.9557 - val_loss: 4.0964 - val_accuracy: 0.5116\n",
      "Epoch 44/100\n",
      "50000/50000 [==============================] - 11s 216us/step - loss: 0.1402 - accuracy: 0.9537 - val_loss: 4.2070 - val_accuracy: 0.5212\n",
      "Epoch 45/100\n",
      "50000/50000 [==============================] - 11s 211us/step - loss: 0.1116 - accuracy: 0.9625 - val_loss: 4.1425 - val_accuracy: 0.5250\n",
      "Epoch 46/100\n",
      "50000/50000 [==============================] - 11s 214us/step - loss: 0.0996 - accuracy: 0.9660 - val_loss: 4.2321 - val_accuracy: 0.5211\n",
      "Epoch 47/100\n",
      "50000/50000 [==============================] - 11s 214us/step - loss: 0.1141 - accuracy: 0.9617 - val_loss: 4.1990 - val_accuracy: 0.5317\n",
      "Epoch 48/100\n",
      "50000/50000 [==============================] - 10s 204us/step - loss: 0.1146 - accuracy: 0.9617 - val_loss: 4.2816 - val_accuracy: 0.5272\n",
      "Epoch 49/100\n",
      "50000/50000 [==============================] - 10s 204us/step - loss: 0.1151 - accuracy: 0.9607 - val_loss: 4.2271 - val_accuracy: 0.5270\n",
      "Epoch 50/100\n",
      "50000/50000 [==============================] - 11s 229us/step - loss: 0.1045 - accuracy: 0.9655 - val_loss: 4.3939 - val_accuracy: 0.5368\n",
      "Epoch 51/100\n",
      "50000/50000 [==============================] - 11s 227us/step - loss: 0.1063 - accuracy: 0.9653 - val_loss: 4.5586 - val_accuracy: 0.5135\n",
      "Epoch 52/100\n",
      "50000/50000 [==============================] - 12s 230us/step - loss: 0.1394 - accuracy: 0.9540 - val_loss: 4.3605 - val_accuracy: 0.5154\n",
      "Epoch 53/100\n",
      "50000/50000 [==============================] - 10s 193us/step - loss: 0.0933 - accuracy: 0.9687 - val_loss: 4.4522 - val_accuracy: 0.5272\n",
      "Epoch 54/100\n",
      "50000/50000 [==============================] - 10s 208us/step - loss: 0.0802 - accuracy: 0.9729 - val_loss: 4.5661 - val_accuracy: 0.5249\n",
      "Epoch 55/100\n",
      "50000/50000 [==============================] - 9s 171us/step - loss: 0.0761 - accuracy: 0.9749 - val_loss: 4.5720 - val_accuracy: 0.5259\n",
      "Epoch 56/100\n",
      "50000/50000 [==============================] - 9s 180us/step - loss: 0.0997 - accuracy: 0.9684 - val_loss: 4.5471 - val_accuracy: 0.5193\n",
      "Epoch 57/100\n",
      "50000/50000 [==============================] - 9s 171us/step - loss: 0.1070 - accuracy: 0.9647 - val_loss: 4.6714 - val_accuracy: 0.5183\n",
      "Epoch 58/100\n",
      "50000/50000 [==============================] - 9s 182us/step - loss: 0.1088 - accuracy: 0.9648 - val_loss: 4.6476 - val_accuracy: 0.5196\n",
      "Epoch 59/100\n",
      "50000/50000 [==============================] - 9s 171us/step - loss: 0.1087 - accuracy: 0.9647 - val_loss: 4.6921 - val_accuracy: 0.5243\n",
      "Epoch 60/100\n",
      "50000/50000 [==============================] - 8s 169us/step - loss: 0.0921 - accuracy: 0.9708 - val_loss: 4.7410 - val_accuracy: 0.5254\n",
      "Epoch 61/100\n",
      "50000/50000 [==============================] - 9s 182us/step - loss: 0.0757 - accuracy: 0.9745 - val_loss: 4.7875 - val_accuracy: 0.5255\n",
      "Epoch 62/100\n",
      "50000/50000 [==============================] - 8s 170us/step - loss: 0.0704 - accuracy: 0.9773 - val_loss: 4.7537 - val_accuracy: 0.5221\n",
      "Epoch 63/100\n",
      "50000/50000 [==============================] - 9s 182us/step - loss: 0.0865 - accuracy: 0.9719 - val_loss: 4.7134 - val_accuracy: 0.5184\n",
      "Epoch 64/100\n",
      "50000/50000 [==============================] - 9s 171us/step - loss: 0.1072 - accuracy: 0.9661 - val_loss: 4.7633 - val_accuracy: 0.5177\n",
      "Epoch 65/100\n",
      "50000/50000 [==============================] - 9s 175us/step - loss: 0.1035 - accuracy: 0.9667 - val_loss: 4.7446 - val_accuracy: 0.5257\n",
      "Epoch 66/100\n",
      "50000/50000 [==============================] - 9s 177us/step - loss: 0.0786 - accuracy: 0.9750 - val_loss: 4.8658 - val_accuracy: 0.5314\n",
      "Epoch 67/100\n",
      "50000/50000 [==============================] - 9s 171us/step - loss: 0.0909 - accuracy: 0.9709 - val_loss: 4.8151 - val_accuracy: 0.5220\n",
      "Epoch 68/100\n",
      "50000/50000 [==============================] - 9s 179us/step - loss: 0.0969 - accuracy: 0.9688 - val_loss: 4.8817 - val_accuracy: 0.5218\n",
      "Epoch 69/100\n",
      "50000/50000 [==============================] - 9s 173us/step - loss: 0.1029 - accuracy: 0.9679 - val_loss: 4.7792 - val_accuracy: 0.5319\n",
      "Epoch 70/100\n",
      "50000/50000 [==============================] - 9s 187us/step - loss: 0.0594 - accuracy: 0.9810 - val_loss: 5.0342 - val_accuracy: 0.5275\n",
      "Epoch 71/100\n",
      "50000/50000 [==============================] - 9s 170us/step - loss: 0.0760 - accuracy: 0.9756 - val_loss: 5.0741 - val_accuracy: 0.5232\n",
      "Epoch 72/100\n",
      "50000/50000 [==============================] - 9s 180us/step - loss: 0.0999 - accuracy: 0.9690 - val_loss: 5.0209 - val_accuracy: 0.5318\n",
      "Epoch 73/100\n",
      "50000/50000 [==============================] - 8s 170us/step - loss: 0.0866 - accuracy: 0.9721 - val_loss: 5.1614 - val_accuracy: 0.5294\n",
      "Epoch 74/100\n",
      "50000/50000 [==============================] - 9s 173us/step - loss: 0.0686 - accuracy: 0.9780 - val_loss: 5.0764 - val_accuracy: 0.5283\n",
      "Epoch 75/100\n",
      "50000/50000 [==============================] - 9s 179us/step - loss: 0.0717 - accuracy: 0.9773 - val_loss: 5.2000 - val_accuracy: 0.5297\n",
      "Epoch 76/100\n",
      "50000/50000 [==============================] - 8s 169us/step - loss: 0.0768 - accuracy: 0.9758 - val_loss: 5.0795 - val_accuracy: 0.5278\n",
      "Epoch 77/100\n",
      "50000/50000 [==============================] - 9s 183us/step - loss: 0.0916 - accuracy: 0.9715 - val_loss: 5.0928 - val_accuracy: 0.5278\n",
      "Epoch 78/100\n",
      "50000/50000 [==============================] - 9s 171us/step - loss: 0.0998 - accuracy: 0.9696 - val_loss: 5.0629 - val_accuracy: 0.5225\n",
      "Epoch 79/100\n",
      "50000/50000 [==============================] - 9s 183us/step - loss: 0.0810 - accuracy: 0.9741 - val_loss: 5.1840 - val_accuracy: 0.5187\n",
      "Epoch 80/100\n",
      "50000/50000 [==============================] - 9s 170us/step - loss: 0.0595 - accuracy: 0.9805 - val_loss: 5.2520 - val_accuracy: 0.5290\n",
      "Epoch 81/100\n",
      "50000/50000 [==============================] - 9s 177us/step - loss: 0.0610 - accuracy: 0.9798 - val_loss: 5.3253 - val_accuracy: 0.5227\n",
      "Epoch 82/100\n",
      "50000/50000 [==============================] - 9s 173us/step - loss: 0.0775 - accuracy: 0.9748 - val_loss: 5.3656 - val_accuracy: 0.5253\n",
      "Epoch 83/100\n",
      "50000/50000 [==============================] - 9s 171us/step - loss: 0.0767 - accuracy: 0.9762 - val_loss: 5.3185 - val_accuracy: 0.5248\n",
      "Epoch 84/100\n",
      "50000/50000 [==============================] - 9s 184us/step - loss: 0.0934 - accuracy: 0.9719 - val_loss: 5.1296 - val_accuracy: 0.5225\n",
      "Epoch 85/100\n",
      "50000/50000 [==============================] - 8s 170us/step - loss: 0.0589 - accuracy: 0.9808 - val_loss: 5.3497 - val_accuracy: 0.5291\n",
      "Epoch 86/100\n",
      "50000/50000 [==============================] - 9s 185us/step - loss: 0.0820 - accuracy: 0.9740 - val_loss: 5.3037 - val_accuracy: 0.5155\n",
      "Epoch 87/100\n",
      "50000/50000 [==============================] - 9s 171us/step - loss: 0.0798 - accuracy: 0.9747 - val_loss: 5.4804 - val_accuracy: 0.5167\n",
      "Epoch 88/100\n",
      "50000/50000 [==============================] - 9s 184us/step - loss: 0.0623 - accuracy: 0.9799 - val_loss: 5.4044 - val_accuracy: 0.5245\n",
      "Epoch 89/100\n",
      "50000/50000 [==============================] - 8s 170us/step - loss: 0.0754 - accuracy: 0.9777 - val_loss: 5.3096 - val_accuracy: 0.5183\n",
      "Epoch 90/100\n",
      "50000/50000 [==============================] - 9s 175us/step - loss: 0.0663 - accuracy: 0.9793 - val_loss: 5.5105 - val_accuracy: 0.5194\n",
      "Epoch 91/100\n",
      "50000/50000 [==============================] - 9s 178us/step - loss: 0.0553 - accuracy: 0.9821 - val_loss: 5.6319 - val_accuracy: 0.5199\n",
      "Epoch 92/100\n",
      "50000/50000 [==============================] - 8s 170us/step - loss: 0.0730 - accuracy: 0.9780 - val_loss: 5.5815 - val_accuracy: 0.5196\n",
      "Epoch 93/100\n",
      "50000/50000 [==============================] - 9s 179us/step - loss: 0.0786 - accuracy: 0.9759 - val_loss: 5.3709 - val_accuracy: 0.5283\n",
      "Epoch 94/100\n",
      "50000/50000 [==============================] - 9s 170us/step - loss: 0.0653 - accuracy: 0.9795 - val_loss: 5.3971 - val_accuracy: 0.5306\n",
      "Epoch 95/100\n",
      "50000/50000 [==============================] - 9s 185us/step - loss: 0.0722 - accuracy: 0.9774 - val_loss: 5.4944 - val_accuracy: 0.5189\n",
      "Epoch 96/100\n",
      "50000/50000 [==============================] - 9s 174us/step - loss: 0.0686 - accuracy: 0.9781 - val_loss: 5.4617 - val_accuracy: 0.5264\n",
      "Epoch 97/100\n",
      "50000/50000 [==============================] - 9s 181us/step - loss: 0.0770 - accuracy: 0.9765 - val_loss: 5.6420 - val_accuracy: 0.5288\n",
      "Epoch 98/100\n",
      "50000/50000 [==============================] - 9s 176us/step - loss: 0.0565 - accuracy: 0.9818 - val_loss: 5.6337 - val_accuracy: 0.5241\n",
      "Epoch 99/100\n",
      "50000/50000 [==============================] - 9s 174us/step - loss: 0.0747 - accuracy: 0.9770 - val_loss: 5.6168 - val_accuracy: 0.5208\n",
      "Epoch 100/100\n",
      "50000/50000 [==============================] - 9s 183us/step - loss: 0.0826 - accuracy: 0.9754 - val_loss: 5.5190 - val_accuracy: 0.5179\n"
     ]
    },
    {
     "data": {
      "text/plain": [
       "<keras.callbacks.callbacks.History at 0x14342ac10>"
      ]
     },
     "execution_count": 51,
     "metadata": {},
     "output_type": "execute_result"
    }
   ],
   "source": [
    "model.fit(x_train, y_train, \n",
    "          epochs=EPOCHS, \n",
    "          batch_size=BATCH_SIZE, \n",
    "          validation_data=(x_test, y_test), \n",
    "          shuffle=True)"
   ]
  },
  {
   "cell_type": "code",
   "execution_count": 52,
   "metadata": {},
   "outputs": [
    {
     "data": {
      "image/png": "[encoded data removed]",
      "text/plain": [
       "<Figure size 432x288 with 1 Axes>"
      ]
     },
     "metadata": {
      "needs_background": "light"
     },
     "output_type": "display_data"
    },
    {
     "data": {
      "image/png": "[encoded data removed]",
      "text/plain": [
       "<Figure size 432x288 with 1 Axes>"
      ]
     },
     "metadata": {
      "needs_background": "light"
     },
     "output_type": "display_data"
    }
   ],
   "source": [
    "import matplotlib.pyplot as plt\n",
    "\n",
    "\n",
    "train_loss = model.history.history[\"loss\"]\n",
    "valid_loss = model.history.history[\"val_loss\"]\n",
    "\n",
    "train_acc = model.history.history[\"accuracy\"]\n",
    "valid_acc = model.history.history[\"val_accuracy\"]\n",
    "\n",
    "plt.plot(range(len(train_loss)), train_loss, label=\"train loss\")\n",
    "plt.plot(range(len(valid_loss)), valid_loss, label=\"valid loss\")\n",
    "plt.legend()\n",
    "plt.title(\"Loss\")\n",
    "plt.show()\n",
    "\n",
    "plt.plot(range(len(train_acc)), train_acc, label=\"train accuracy\")\n",
    "plt.plot(range(len(valid_acc)), valid_acc, label=\"valid accuracy\")\n",
    "plt.legend()\n",
    "plt.title(\"Accuracy\")\n",
    "plt.show()"
   ]
  },
  {
   "cell_type": "code",
   "execution_count": null,
   "metadata": {},
   "outputs": [],
   "source": []
  }
 ],
 "metadata": {
  "kernelspec": {
   "display_name": "Python 3",
   "language": "python",
   "name": "python3"
  },
  "language_info": {
   "codemirror_mode": {
    "name": "ipython",
    "version": 3
   },
   "file_extension": ".py",
   "mimetype": "text/x-python",
   "name": "python",
   "nbconvert_exporter": "python",
   "pygments_lexer": "ipython3",
   "version": "3.7.4"
  }
 },
 "nbformat": 4,
 "nbformat_minor": 2
}
