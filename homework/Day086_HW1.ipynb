{
 "cells": [
  {
   "cell_type": "markdown",
   "metadata": {},
   "source": [
    "## Work\n",
    "1. 試比較 save_best_only 與否的差異\n",
    "2. 請僅存入將 save_weights_only 設定為 True, 並嘗試 reset ipynb 並將模型與權重重新建回並預測 x_test"
   ]
  },
  {
   "cell_type": "code",
   "execution_count": 9,
   "metadata": {},
   "outputs": [],
   "source": [
    "import os\n",
    "import keras\n",
    "\n",
    "# Disable GPU\n",
    "os.environ[\"CUDA_VISIBLE_DEVICES\"] = \"\""
   ]
  },
  {
   "cell_type": "code",
   "execution_count": 10,
   "metadata": {},
   "outputs": [],
   "source": [
    "train, test = keras.datasets.cifar10.load_data()"
   ]
  },
  {
   "cell_type": "code",
   "execution_count": 11,
   "metadata": {},
   "outputs": [],
   "source": [
    "## 資料前處理\n",
    "def preproc_x(x, flatten=True):\n",
    "    x = x / 255.\n",
    "    if flatten:\n",
    "        x = x.reshape((len(x), -1))\n",
    "    return x\n",
    "\n",
    "def preproc_y(y, num_classes=10):\n",
    "    if y.shape[-1] == 1:\n",
    "        y = keras.utils.to_categorical(y, num_classes)\n",
    "    return y    "
   ]
  },
  {
   "cell_type": "code",
   "execution_count": 12,
   "metadata": {},
   "outputs": [],
   "source": [
    "x_train, y_train = train\n",
    "x_test, y_test = test\n",
    "\n",
    "# Preproc the inputs\n",
    "x_train = preproc_x(x_train)\n",
    "x_test = preproc_x(x_test)\n",
    "\n",
    "# Preprc the outputs\n",
    "y_train = preproc_y(y_train)\n",
    "y_test = preproc_y(y_test)"
   ]
  },
  {
   "cell_type": "code",
   "execution_count": 13,
   "metadata": {},
   "outputs": [],
   "source": [
    "from keras.layers import BatchNormalization\n",
    "\n",
    "def build_mlp(input_shape, output_units=10, num_neurons=[512, 256, 128]):\n",
    "    \"\"\"Code Here\n",
    "    建立你的神經網路\n",
    "    \"\"\"\n",
    "    input_layer = keras.layers.Input(input_shape)\n",
    "    \n",
    "    for i, n_units in enumerate(num_neurons):\n",
    "        if i == 0:\n",
    "            x = keras.layers.Dense(units=n_units, \n",
    "                                   activation=\"relu\", \n",
    "                                   name=\"hidden_layer\"+str(i+1))(input_layer)\n",
    "            x = BatchNormalization()(x)\n",
    "        else:\n",
    "            x = keras.layers.Dense(units=n_units, \n",
    "                                   activation=\"relu\", \n",
    "                                   name=\"hidden_layer\"+str(i+1))(x)\n",
    "            x = BatchNormalization()(x)\n",
    "    \n",
    "    out = keras.layers.Dense(units=output_units, activation=\"softmax\", name=\"output\")(x)\n",
    "    \n",
    "    model = keras.models.Model(inputs=[input_layer], outputs=[out])\n",
    "    return model"
   ]
  },
  {
   "cell_type": "code",
   "execution_count": 14,
   "metadata": {},
   "outputs": [],
   "source": [
    "\"\"\"Code Here\n",
    "設定超參數\n",
    "\"\"\"\n",
    "LEARNING_RATE = 1e-3\n",
    "EPOCHS = 50\n",
    "BATCH_SIZE = 1024\n",
    "MOMENTUM = 0.95"
   ]
  },
  {
   "cell_type": "code",
   "execution_count": 15,
   "metadata": {},
   "outputs": [
    {
     "name": "stdout",
     "output_type": "stream",
     "text": [
      "Model: \"model_1\"\n",
      "_________________________________________________________________\n",
      "Layer (type)                 Output Shape              Param #   \n",
      "=================================================================\n",
      "input_1 (InputLayer)         (None, 3072)              0         \n",
      "_________________________________________________________________\n",
      "hidden_layer1 (Dense)        (None, 512)               1573376   \n",
      "_________________________________________________________________\n",
      "batch_normalization_1 (Batch (None, 512)               2048      \n",
      "_________________________________________________________________\n",
      "hidden_layer2 (Dense)        (None, 256)               131328    \n",
      "_________________________________________________________________\n",
      "batch_normalization_2 (Batch (None, 256)               1024      \n",
      "_________________________________________________________________\n",
      "hidden_layer3 (Dense)        (None, 128)               32896     \n",
      "_________________________________________________________________\n",
      "batch_normalization_3 (Batch (None, 128)               512       \n",
      "_________________________________________________________________\n",
      "output (Dense)               (None, 10)                1290      \n",
      "=================================================================\n",
      "Total params: 1,742,474\n",
      "Trainable params: 1,740,682\n",
      "Non-trainable params: 1,792\n",
      "_________________________________________________________________\n",
      "Train on 50000 samples, validate on 10000 samples\n",
      "Epoch 1/50\n",
      "50000/50000 [==============================] - 12s 244us/step - loss: 2.2015 - accuracy: 0.2716 - val_loss: 2.1543 - val_accuracy: 0.2010\n",
      "Epoch 2/50\n",
      "50000/50000 [==============================] - 9s 178us/step - loss: 1.7413 - accuracy: 0.3902 - val_loss: 1.9933 - val_accuracy: 0.2737\n",
      "Epoch 3/50\n",
      "50000/50000 [==============================] - 9s 176us/step - loss: 1.6157 - accuracy: 0.4320 - val_loss: 1.8307 - val_accuracy: 0.3639\n",
      "Epoch 4/50\n",
      "50000/50000 [==============================] - 8s 168us/step - loss: 1.5428 - accuracy: 0.4611 - val_loss: 1.7265 - val_accuracy: 0.3905\n",
      "Epoch 5/50\n",
      "50000/50000 [==============================] - 8s 155us/step - loss: 1.4844 - accuracy: 0.4789 - val_loss: 1.6380 - val_accuracy: 0.4182\n",
      "Epoch 6/50\n",
      "50000/50000 [==============================] - 9s 171us/step - loss: 1.4389 - accuracy: 0.4951 - val_loss: 1.5839 - val_accuracy: 0.4408\n",
      "Epoch 7/50\n",
      "50000/50000 [==============================] - 9s 186us/step - loss: 1.3995 - accuracy: 0.5118 - val_loss: 1.5658 - val_accuracy: 0.4393\n",
      "Epoch 8/50\n",
      "50000/50000 [==============================] - 9s 170us/step - loss: 1.3640 - accuracy: 0.5240 - val_loss: 1.5313 - val_accuracy: 0.4540\n",
      "Epoch 9/50\n",
      "50000/50000 [==============================] - 8s 159us/step - loss: 1.3317 - accuracy: 0.5349 - val_loss: 1.4921 - val_accuracy: 0.4697\n",
      "Epoch 10/50\n",
      "50000/50000 [==============================] - 8s 162us/step - loss: 1.3031 - accuracy: 0.5452 - val_loss: 1.5072 - val_accuracy: 0.4606\n",
      "Epoch 11/50\n",
      "50000/50000 [==============================] - 8s 168us/step - loss: 1.2728 - accuracy: 0.5587 - val_loss: 1.4787 - val_accuracy: 0.4805\n",
      "Epoch 12/50\n",
      "50000/50000 [==============================] - 8s 163us/step - loss: 1.2474 - accuracy: 0.5663 - val_loss: 1.4598 - val_accuracy: 0.4837\n",
      "Epoch 13/50\n",
      "50000/50000 [==============================] - 8s 150us/step - loss: 1.2201 - accuracy: 0.5771 - val_loss: 1.4587 - val_accuracy: 0.4862\n",
      "Epoch 14/50\n",
      "50000/50000 [==============================] - 7s 143us/step - loss: 1.1948 - accuracy: 0.5887 - val_loss: 1.4513 - val_accuracy: 0.4852\n",
      "Epoch 15/50\n",
      "50000/50000 [==============================] - 7s 143us/step - loss: 1.1709 - accuracy: 0.5955 - val_loss: 1.4561 - val_accuracy: 0.4846\n",
      "Epoch 16/50\n",
      "50000/50000 [==============================] - 8s 160us/step - loss: 1.1475 - accuracy: 0.6052 - val_loss: 1.4381 - val_accuracy: 0.4921\n",
      "Epoch 17/50\n",
      "50000/50000 [==============================] - 10s 195us/step - loss: 1.1221 - accuracy: 0.6155 - val_loss: 1.4489 - val_accuracy: 0.4899\n",
      "Epoch 18/50\n",
      "50000/50000 [==============================] - 9s 175us/step - loss: 1.1006 - accuracy: 0.6231 - val_loss: 1.4566 - val_accuracy: 0.4920\n",
      "Epoch 19/50\n",
      "50000/50000 [==============================] - 10s 209us/step - loss: 1.0798 - accuracy: 0.6328 - val_loss: 1.4557 - val_accuracy: 0.4916\n",
      "Epoch 20/50\n",
      "50000/50000 [==============================] - 10s 193us/step - loss: 1.0571 - accuracy: 0.6385 - val_loss: 1.4469 - val_accuracy: 0.4954\n",
      "Epoch 21/50\n",
      "50000/50000 [==============================] - 8s 164us/step - loss: 1.0353 - accuracy: 0.6480 - val_loss: 1.4450 - val_accuracy: 0.4930\n",
      "Epoch 22/50\n",
      "50000/50000 [==============================] - 8s 153us/step - loss: 1.0121 - accuracy: 0.6565 - val_loss: 1.4496 - val_accuracy: 0.4964\n",
      "Epoch 23/50\n",
      "50000/50000 [==============================] - 9s 177us/step - loss: 0.9933 - accuracy: 0.6648 - val_loss: 1.4508 - val_accuracy: 0.4959\n",
      "Epoch 24/50\n",
      "50000/50000 [==============================] - 9s 177us/step - loss: 0.9719 - accuracy: 0.6730 - val_loss: 1.4519 - val_accuracy: 0.4934\n",
      "Epoch 25/50\n",
      "50000/50000 [==============================] - 8s 154us/step - loss: 0.9498 - accuracy: 0.6804 - val_loss: 1.4697 - val_accuracy: 0.4956\n",
      "Epoch 26/50\n",
      "50000/50000 [==============================] - 7s 143us/step - loss: 0.9292 - accuracy: 0.6880 - val_loss: 1.4718 - val_accuracy: 0.4953\n",
      "Epoch 27/50\n",
      "50000/50000 [==============================] - 9s 172us/step - loss: 0.9091 - accuracy: 0.6953 - val_loss: 1.4544 - val_accuracy: 0.4977\n",
      "Epoch 28/50\n",
      "50000/50000 [==============================] - 8s 168us/step - loss: 0.8876 - accuracy: 0.7057 - val_loss: 1.4655 - val_accuracy: 0.4966\n",
      "Epoch 29/50\n",
      "50000/50000 [==============================] - 8s 162us/step - loss: 0.8689 - accuracy: 0.7133 - val_loss: 1.4726 - val_accuracy: 0.4978\n",
      "Epoch 30/50\n",
      "50000/50000 [==============================] - 8s 162us/step - loss: 0.8473 - accuracy: 0.7220 - val_loss: 1.4647 - val_accuracy: 0.4991\n",
      "Epoch 31/50\n",
      "50000/50000 [==============================] - 8s 161us/step - loss: 0.8280 - accuracy: 0.7288 - val_loss: 1.4851 - val_accuracy: 0.4976\n",
      "Epoch 32/50\n",
      "50000/50000 [==============================] - 9s 185us/step - loss: 0.8075 - accuracy: 0.7365 - val_loss: 1.4866 - val_accuracy: 0.5004\n",
      "Epoch 33/50\n",
      "50000/50000 [==============================] - 11s 213us/step - loss: 0.7894 - accuracy: 0.7446 - val_loss: 1.4932 - val_accuracy: 0.4956\n",
      "Epoch 34/50\n",
      "50000/50000 [==============================] - 17s 346us/step - loss: 0.7719 - accuracy: 0.7502 - val_loss: 1.5187 - val_accuracy: 0.4918\n",
      "Epoch 35/50\n",
      "50000/50000 [==============================] - 9s 175us/step - loss: 0.7499 - accuracy: 0.7599 - val_loss: 1.5061 - val_accuracy: 0.4988\n",
      "Epoch 36/50\n",
      "50000/50000 [==============================] - 8s 169us/step - loss: 0.7305 - accuracy: 0.7677 - val_loss: 1.5256 - val_accuracy: 0.4997\n",
      "Epoch 37/50\n",
      "50000/50000 [==============================] - 10s 194us/step - loss: 0.7101 - accuracy: 0.7769 - val_loss: 1.5257 - val_accuracy: 0.4924\n",
      "Epoch 38/50\n",
      "50000/50000 [==============================] - 12s 235us/step - loss: 0.6928 - accuracy: 0.7832 - val_loss: 1.5284 - val_accuracy: 0.5015\n",
      "Epoch 39/50\n",
      "50000/50000 [==============================] - 13s 263us/step - loss: 0.6731 - accuracy: 0.7915 - val_loss: 1.5461 - val_accuracy: 0.4907\n",
      "Epoch 40/50\n",
      "50000/50000 [==============================] - 11s 226us/step - loss: 0.6562 - accuracy: 0.7970 - val_loss: 1.5850 - val_accuracy: 0.4884\n",
      "Epoch 41/50\n",
      "50000/50000 [==============================] - 9s 182us/step - loss: 0.6387 - accuracy: 0.8060 - val_loss: 1.5575 - val_accuracy: 0.4944\n",
      "Epoch 42/50\n",
      "50000/50000 [==============================] - 9s 190us/step - loss: 0.6181 - accuracy: 0.8149 - val_loss: 1.5717 - val_accuracy: 0.4968\n",
      "Epoch 43/50\n",
      "50000/50000 [==============================] - 10s 199us/step - loss: 0.6011 - accuracy: 0.8213 - val_loss: 1.5962 - val_accuracy: 0.4922\n",
      "Epoch 44/50\n",
      "50000/50000 [==============================] - 11s 214us/step - loss: 0.5835 - accuracy: 0.8279 - val_loss: 1.6149 - val_accuracy: 0.4921\n",
      "Epoch 45/50\n",
      "50000/50000 [==============================] - 9s 176us/step - loss: 0.5648 - accuracy: 0.8340 - val_loss: 1.6162 - val_accuracy: 0.4909\n",
      "Epoch 46/50\n",
      "50000/50000 [==============================] - 7s 147us/step - loss: 0.5478 - accuracy: 0.8419 - val_loss: 1.6139 - val_accuracy: 0.4915\n",
      "Epoch 47/50\n",
      "50000/50000 [==============================] - 8s 154us/step - loss: 0.5314 - accuracy: 0.8483 - val_loss: 1.6567 - val_accuracy: 0.4871\n",
      "Epoch 48/50\n",
      "50000/50000 [==============================] - 8s 158us/step - loss: 0.5160 - accuracy: 0.8532 - val_loss: 1.6516 - val_accuracy: 0.4913\n",
      "Epoch 49/50\n",
      "50000/50000 [==============================] - 8s 159us/step - loss: 0.4991 - accuracy: 0.8600 - val_loss: 1.6777 - val_accuracy: 0.4872\n",
      "Epoch 50/50\n",
      "50000/50000 [==============================] - 8s 157us/step - loss: 0.4825 - accuracy: 0.8672 - val_loss: 1.6760 - val_accuracy: 0.4880\n",
      "10000/10000 [==============================] - 2s 204us/step\n"
     ]
    }
   ],
   "source": [
    "# 載入 Callbacks\n",
    "\"\"\"Code Here\n",
    "設定 callbacks: model checkpoint\n",
    "\"\"\"\n",
    "from keras.callbacks import ModelCheckpoint\n",
    "\n",
    "model_ckpt = ModelCheckpoint(filepath=\"./tmp.h5\", \n",
    "                             monitor=\"val_loss\", \n",
    "                             save_best_only=False)\n",
    "\n",
    "results = {}\n",
    "\"\"\"Code Here\n",
    "撰寫你的訓練流程並將結果用 dictionary 紀錄\n",
    "\"\"\"\n",
    "keras.backend.clear_session()\n",
    "model = build_mlp(input_shape=x_train.shape[1:])\n",
    "model.summary()\n",
    "optimizer = keras.optimizers.SGD(lr=LEARNING_RATE, nesterov=True, momentum=MOMENTUM)\n",
    "model.compile(loss=\"categorical_crossentropy\", metrics=[\"accuracy\"], optimizer=optimizer)\n",
    "\n",
    "model.fit(x_train, y_train, \n",
    "          epochs=EPOCHS, \n",
    "          batch_size=BATCH_SIZE, \n",
    "          validation_data=(x_test, y_test), \n",
    "          shuffle=True,\n",
    "          callbacks=[model_ckpt]\n",
    "         )\n",
    "\n",
    "# Collect results\n",
    "train_loss = model.history.history[\"loss\"]\n",
    "valid_loss = model.history.history[\"val_loss\"]\n",
    "train_acc = model.history.history[\"accuracy\"]\n",
    "valid_acc = model.history.history[\"val_accuracy\"]\n",
    "\n",
    "# Load back\n",
    "model = keras.models.load_model(\"./tmp.h5\")\n",
    "loss_loadback, acc_loadback = model.evaluate(x_test, y_test)"
   ]
  },
  {
   "cell_type": "code",
   "execution_count": 16,
   "metadata": {
    "scrolled": true
   },
   "outputs": [
    {
     "data": {
      "image/png": "[encoded data removed]",
      "text/plain": [
       "<Figure size 432x288 with 1 Axes>"
      ]
     },
     "metadata": {
      "needs_background": "light"
     },
     "output_type": "display_data"
    },
    {
     "data": {
      "image/png": "[encoded data removed]",
      "text/plain": [
       "<Figure size 432x288 with 1 Axes>"
      ]
     },
     "metadata": {
      "needs_background": "light"
     },
     "output_type": "display_data"
    }
   ],
   "source": [
    "\"\"\"Code Here\n",
    "將結果繪出\n",
    "\"\"\"\n",
    "import matplotlib.pyplot as plt\n",
    "%matplotlib inline\n",
    "\n",
    "plt.plot(range(len(train_loss)), train_loss, label=\"train loss\")\n",
    "plt.plot(range(len(valid_loss)), valid_loss, label=\"valid loss\")\n",
    "plt.hlines(y=loss_loadback, xmin=0, xmax=len(train_loss), colors='r', linestyles='--')\n",
    "plt.legend()\n",
    "plt.title(\"Loss\")\n",
    "plt.show()\n",
    "\n",
    "plt.plot(range(len(train_acc)), train_acc, label=\"train accuracy\")\n",
    "plt.plot(range(len(valid_acc)), valid_acc, label=\"valid accuracy\")\n",
    "plt.hlines(y=acc_loadback, xmin=0, xmax=len(train_loss), colors='r', linestyles='--')\n",
    "plt.legend()\n",
    "plt.title(\"Accuracy\")\n",
    "plt.show()"
   ]
  }
 ],
 "metadata": {
  "kernelspec": {
   "display_name": "Python 3",
   "language": "python",
   "name": "python3"
  },
  "language_info": {
   "codemirror_mode": {
    "name": "ipython",
    "version": 3
   },
   "file_extension": ".py",
   "mimetype": "text/x-python",
   "name": "python",
   "nbconvert_exporter": "python",
   "pygments_lexer": "ipython3",
   "version": "3.7.4"
  }
 },
 "nbformat": 4,
 "nbformat_minor": 2
}
